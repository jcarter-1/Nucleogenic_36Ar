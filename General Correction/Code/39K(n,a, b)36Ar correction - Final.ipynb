{
 "cells": [
  {
   "cell_type": "markdown",
   "id": "bdb8d748",
   "metadata": {},
   "source": [
    "# General Corection for the $^{39}$K(n,$\\alpha$, $\\beta$)$^{36}$Ar interference\n",
    "\n",
    "* Code in this notebook reads in the results of a simulated irradiation of sanidine\n",
    "* Isotopes of Argon are produced and Figures are created to illustrate how an ArAr age could potentially change with the inclusion of this inference channel\n",
    "* Figrues created in this folder are: \n",
    "    * Figure 4\n",
    "    * Figure 7 "
   ]
  },
  {
   "cell_type": "code",
   "execution_count": 70,
   "id": "d8cc38f3",
   "metadata": {},
   "outputs": [],
   "source": [
    "import numpy as np \n",
    "import matplotlib.pyplot as plt \n",
    "import matplotlib as mpl\n",
    "\n",
    "\"\"\"\n",
    "Plots\n",
    "\"\"\"\n",
    "mpl.rcParams['font.size'] = 14"
   ]
  },
  {
   "cell_type": "code",
   "execution_count": 71,
   "id": "af042fc6",
   "metadata": {},
   "outputs": [],
   "source": [
    "import pandas as pd"
   ]
  },
  {
   "cell_type": "code",
   "execution_count": 72,
   "id": "7b0e24de",
   "metadata": {},
   "outputs": [
    {
     "data": {
      "text/plain": [
       "'\\nRead in separately and compare the data sets\\n'"
      ]
     },
     "execution_count": 72,
     "metadata": {},
     "output_type": "execute_result"
    }
   ],
   "source": [
    "\"\"\"\n",
    "Read in separately and compare the data sets\n",
    "\"\"\""
   ]
  },
  {
   "cell_type": "code",
   "execution_count": 73,
   "id": "eb959aea",
   "metadata": {},
   "outputs": [],
   "source": [
    "df1 = pd.read_csv('Sanidine_Irradiation0_nt_Ar.csv', skiprows = 11)\n",
    "df2 = pd.read_csv('Sanidine_Irradiation1_nt_Ar.csv', skiprows = 11)\n",
    "df3 = pd.read_csv('Sanidine_Irradiation2_nt_Ar.csv', skiprows = 11)\n",
    "df4 = pd.read_csv('Sanidine_Irradiation3_nt_Ar.csv', skiprows = 11)\n",
    "df5 = pd.read_csv('Sanidine_Irradiation4_nt_Ar.csv', skiprows = 11)\n",
    "df6 = pd.read_csv('Sanidine_Irradiation5_nt_Ar.csv', skiprows = 11)\n",
    "df7 = pd.read_csv('Sanidine_Irradiation6_nt_Ar.csv', skiprows = 11)\n",
    "df8 = pd.read_csv('Sanidine_Irradiation7_nt_Ar.csv', skiprows = 11)\n"
   ]
  },
  {
   "cell_type": "code",
   "execution_count": 18,
   "id": "6d8f87b7",
   "metadata": {},
   "outputs": [],
   "source": [
    "df1 = df1.set_axis([\"Neutron_energy\",\n",
    "                    \"tZ\", \"tA\", \n",
    "                        \"Z\", \"A\", \n",
    "                    \"Nuclide_energy\", \n",
    "                     \"time\"], axis = 1, inplace = False)\n",
    "\n",
    "\n",
    "df2 = df2.set_axis([\"Neutron_energy\",\n",
    "                    \"tZ\", \"tA\", \n",
    "                        \"Z\", \"A\", \n",
    "                    \"Nuclide_energy\", \n",
    "                     \"time\"], axis = 1, inplace = False)\n",
    "\n",
    "df3 = df3.set_axis([\"Neutron_energy\",\n",
    "                    \"tZ\", \"tA\", \n",
    "                        \"Z\", \"A\", \n",
    "                    \"Nuclide_energy\", \n",
    "                     \"time\"], axis = 1, inplace = False)\n",
    "\n",
    "df4 = df4.set_axis([\"Neutron_energy\",\n",
    "                    \"tZ\", \"tA\", \n",
    "                        \"Z\", \"A\", \n",
    "                    \"Nuclide_energy\", \n",
    "                     \"time\"], axis = 1, inplace = False)\n",
    "\n",
    "df5 = df5.set_axis([\"Neutron_energy\",\n",
    "                    \"tZ\", \"tA\", \n",
    "                        \"Z\", \"A\", \n",
    "                    \"Nuclide_energy\", \n",
    "                     \"time\"], axis = 1, inplace = False)\n",
    "\n",
    "\n",
    "df6 = df6.set_axis([\"Neutron_energy\",\n",
    "                    \"tZ\", \"tA\", \n",
    "                        \"Z\", \"A\", \n",
    "                    \"Nuclide_energy\", \n",
    "                     \"time\"], axis = 1, inplace = False)\n",
    "\n",
    "df7 = df7.set_axis([\"Neutron_energy\",\n",
    "                    \"tZ\", \"tA\", \n",
    "                        \"Z\", \"A\", \n",
    "                    \"Nuclide_energy\", \n",
    "                     \"time\"], axis = 1, inplace = False)\n",
    "\n",
    "df8 = df8.set_axis([\"Neutron_energy\",\n",
    "                    \"tZ\", \"tA\", \n",
    "                        \"Z\", \"A\", \n",
    "                    \"Nuclide_energy\", \n",
    "                     \"time\"], axis = 1, inplace = False)"
   ]
  },
  {
   "cell_type": "code",
   "execution_count": 21,
   "id": "71d52f1f",
   "metadata": {},
   "outputs": [],
   "source": [
    "\"\"\"\n",
    "Target 39K\n",
    "\"\"\"\n",
    "df1_K = df1[df1['tZ'] == 19]\n",
    "df1_K = df1_K[df1_K['tA'] == 39]\n",
    "\n",
    "\"\"\"\n",
    "Making 39Ar and 36Cl\n",
    "\"\"\"\n",
    "\n",
    "df1_39 =  df1_K[df1_K['Z'] == 18]\n",
    "df1_39 =  df1_39[df1_39['A'] == 39]\n",
    "\n",
    "\n",
    "df_cl36 = df1_K[df1_K['Z'] == 17]\n",
    "df_cl36 = df_cl36[df_cl36['A'] == 36]"
   ]
  },
  {
   "cell_type": "code",
   "execution_count": 22,
   "id": "092817f3",
   "metadata": {},
   "outputs": [],
   "source": [
    "\"\"\"\n",
    "Target 39K\n",
    "\"\"\"\n",
    "df2_K = df2[df2['tZ'] == 19]\n",
    "df2_K = df2_K[df2_K['tA'] == 39]\n",
    "\n",
    "\"\"\"\n",
    "Making 39Ar and 36Cl\n",
    "\"\"\"\n",
    "\n",
    "df2_39 =  df2_K[df2_K['Z'] == 18]\n",
    "df2_39 =  df2_39[df2_39['A'] == 39]\n",
    "\n",
    "\n",
    "df2_cl36 = df2_K[df2_K['Z'] == 17]\n",
    "df2_cl36 = df2_cl36[df2_cl36['A'] == 36]"
   ]
  },
  {
   "cell_type": "code",
   "execution_count": 23,
   "id": "77d86d54",
   "metadata": {},
   "outputs": [],
   "source": [
    "\"\"\"\n",
    "Target 39K\n",
    "\"\"\"\n",
    "df3_K = df3[df3['tZ'] == 19]\n",
    "df3_K = df3_K[df3_K['tA'] == 39]\n",
    "\n",
    "\"\"\"\n",
    "Making 39Ar and 36Cl\n",
    "\"\"\"\n",
    "\n",
    "df3_39 =  df3_K[df3_K['Z'] == 18]\n",
    "df3_39 =  df3_39[df3_39['A'] == 39]\n",
    "\n",
    "\n",
    "df3_cl36 = df3_K[df3_K['Z'] == 17]\n",
    "df3_cl36 = df3_cl36[df3_cl36['A'] == 36]"
   ]
  },
  {
   "cell_type": "code",
   "execution_count": 24,
   "id": "72e23c4d",
   "metadata": {},
   "outputs": [],
   "source": [
    "\"\"\"\n",
    "Target 39K\n",
    "\"\"\"\n",
    "df4_K = df4[df4['tZ'] == 19]\n",
    "d4_K = df4_K[df4_K['tA'] == 39]\n",
    "\n",
    "\"\"\"\n",
    "Making 39Ar and 36Cl\n",
    "\"\"\"\n",
    "\n",
    "df4_39 =  df4_K[df4_K['Z'] == 18]\n",
    "df4_39 =  df4_39[df4_39['A'] == 39]\n",
    "\n",
    "\n",
    "df4_cl36 = df4_K[df4_K['Z'] == 17]\n",
    "df4_cl36 = df4_cl36[df4_cl36['A'] == 36]"
   ]
  },
  {
   "cell_type": "code",
   "execution_count": 25,
   "id": "271a91d8",
   "metadata": {},
   "outputs": [],
   "source": [
    "\"\"\"\n",
    "Target 39K\n",
    "\"\"\"\n",
    "df5_K = df5[df5['tZ'] == 19]\n",
    "df5_K = df5_K[df5_K['tA'] == 39]\n",
    "\n",
    "\"\"\"\n",
    "Making 39Ar and 36Cl\n",
    "\"\"\"\n",
    "\n",
    "df5_39 =  df5_K[df5_K['Z'] == 18]\n",
    "df5_39 =  df5_39[df5_39['A'] == 39]\n",
    "\n",
    "\n",
    "df5_cl36 = df5_K[df5_K['Z'] == 17]\n",
    "df5_cl36 = df5_cl36[df5_cl36['A'] == 36]"
   ]
  },
  {
   "cell_type": "code",
   "execution_count": 26,
   "id": "d0c1e99b",
   "metadata": {},
   "outputs": [],
   "source": [
    "\"\"\"\n",
    "Target 39K\n",
    "\"\"\"\n",
    "df6_K = df6[df6['tZ'] == 19]\n",
    "df6_K = df6_K[df6_K['tA'] == 39]\n",
    "\n",
    "\"\"\"\n",
    "Making 39Ar and 36Cl\n",
    "\"\"\"\n",
    "\n",
    "df6_39 =  df6_K[df6_K['Z'] == 18]\n",
    "df6_39 =  df6_39[df6_39['A'] == 39]\n",
    "\n",
    "\n",
    "df6_cl36 = df6_K[df6_K['Z'] == 17]\n",
    "df6_cl36 = df6_cl36[df6_cl36['A'] == 36]"
   ]
  },
  {
   "cell_type": "code",
   "execution_count": 27,
   "id": "8f04e0ea",
   "metadata": {},
   "outputs": [],
   "source": [
    "\"\"\"\n",
    "Target 39K\n",
    "\"\"\"\n",
    "df7_K = df7[df7['tZ'] == 19]\n",
    "df7_K = df7_K[df7_K['tA'] == 39]\n",
    "\n",
    "\"\"\"\n",
    "Making 39Ar and 36Cl\n",
    "\"\"\"\n",
    "\n",
    "df7_39 =  df7_K[df7_K['Z'] == 18]\n",
    "df7_39 =  df7_39[df7_39['A'] == 39]\n",
    "\n",
    "\n",
    "df7_cl36 = df7_K[df7_K['Z'] == 17]\n",
    "df7_cl36 = df7_cl36[df7_cl36['A'] == 36]"
   ]
  },
  {
   "cell_type": "code",
   "execution_count": 28,
   "id": "14499a89",
   "metadata": {},
   "outputs": [],
   "source": [
    "\"\"\"\n",
    "Number of Atoms and uncertainty\n",
    "(Just counting stats)\n",
    "\"\"\"\n",
    "\n",
    "def Ar39_Cl36(a, b):\n",
    "    \n",
    "    a_err = np.sqrt(a)\n",
    "    \n",
    "    b_err = np.sqrt(b)\n",
    "    \n",
    "    ratio = a/b\n",
    "    \n",
    "    yy = np.sqrt((a_err/a)**2 + (b_err/b)**2)\n",
    "    \n",
    "    ratio_err = ratio * yy\n",
    "    \n",
    "    return ratio, ratio_err"
   ]
  },
  {
   "cell_type": "code",
   "execution_count": 29,
   "id": "6b8606c5",
   "metadata": {},
   "outputs": [],
   "source": [
    "r1, r1_err = Ar39_Cl36(df_cl36.shape[0], \n",
    "                       df1_39.shape[0])\n",
    "\n",
    "\n",
    "r2, r2_err = Ar39_Cl36(df2_cl36.shape[0], \n",
    "                       df2_39.shape[0])\n",
    "\n",
    "r3, r3_err = Ar39_Cl36(df3_cl36.shape[0], \n",
    "                       df3_39.shape[0])\n",
    "r4, r4_err = Ar39_Cl36(df4_cl36.shape[0], \n",
    "                       df4_39.shape[0])\n",
    "r5, r5_err = Ar39_Cl36(df5_cl36.shape[0], \n",
    "                       df5_39.shape[0])\n",
    "r6, r6_err = Ar39_Cl36(df6_cl36.shape[0], \n",
    "                     df6_39.shape[0])\n",
    "r7, r7_err = Ar39_Cl36(df7_cl36.shape[0], \n",
    "                       df7_39.shape[0])"
   ]
  },
  {
   "cell_type": "code",
   "execution_count": 30,
   "id": "0a77d7af",
   "metadata": {},
   "outputs": [],
   "source": [
    "def weight_mean(r, r_err): \n",
    "    \n",
    "    r_wm_1 = (r/r_err**2).sum()\n",
    "    r_wm_2 = (1/r_err**2).sum()\n",
    "    \n",
    "    r_wm = r_wm_1/r_wm_2\n",
    "    \n",
    "    \n",
    "    r_wm_err = (1/r_wm_2)\n",
    "    \n",
    "    return r_wm, np.sqrt(r_wm_err)"
   ]
  },
  {
   "cell_type": "code",
   "execution_count": 31,
   "id": "91298173",
   "metadata": {},
   "outputs": [],
   "source": [
    "r = np.array([r1, r2, r3, r4, r5, r6, r7])\n",
    "r_err = np.array([r1_err, r2_err, r3_err, \n",
    "                  r4_err, r5_err, r6_err, \n",
    "                  r7_err])"
   ]
  },
  {
   "cell_type": "code",
   "execution_count": 32,
   "id": "7573df93",
   "metadata": {},
   "outputs": [],
   "source": [
    "ratio_wm, ratio_wm_err = weight_mean(r, r_err)"
   ]
  },
  {
   "cell_type": "code",
   "execution_count": 33,
   "id": "82afd248",
   "metadata": {},
   "outputs": [
    {
     "data": {
      "image/png": "[encoded data removed]",
      "text/plain": [
       "<Figure size 504x144 with 1 Axes>"
      ]
     },
     "metadata": {
      "needs_background": "light"
     },
     "output_type": "display_data"
    }
   ],
   "source": [
    "plt.figure(figsize = (7, 2))\n",
    "\n",
    "\n",
    "plt.errorbar(x = 2, y = r2, yerr = r2_err, \n",
    "            fmt = 's', \n",
    "            color = 'k')\n",
    "\n",
    "plt.errorbar(x = 3, y = r3, yerr = r3_err, \n",
    "            fmt = 's', \n",
    "            color = 'k')\n",
    "plt.errorbar(x = 4, y = r4, yerr = r4_err, \n",
    "            fmt = 's', \n",
    "            color = 'k')\n",
    "plt.errorbar(x = 5, y = r5, yerr = r5_err, \n",
    "            fmt = 's', \n",
    "            color = 'k')\n",
    "plt.errorbar(x = 6, y = r6, yerr = r6_err, \n",
    "            fmt = 's', \n",
    "            color = 'k')\n",
    "plt.errorbar(x = 7, y = r7, yerr = r7_err, \n",
    "            fmt = 's', \n",
    "            color = 'k')\n",
    "\n",
    "\n",
    "plt.axhspan(ratio_wm + ratio_wm_err, \n",
    "           ratio_wm - ratio_wm_err,\n",
    "           alpha = 0.5, \n",
    "           color = 'skyblue')\n",
    "\n",
    "plt.locator_params(axis = 'y', nbins = 6)\n",
    "plt.xticks([])\n",
    "\n",
    "plt.ylabel(r'($^{36}$Cl/$^{39}$Ar)$_{\\rm K}$'); "
   ]
  },
  {
   "cell_type": "code",
   "execution_count": 34,
   "id": "591e300f",
   "metadata": {},
   "outputs": [
    {
     "name": "stdout",
     "output_type": "stream",
     "text": [
      "weighted mean 0.3943084978839749 +/- 0.0067688131073092815\n"
     ]
    }
   ],
   "source": [
    "print('weighted mean',ratio_wm, '+/-', ratio_wm_err)"
   ]
  },
  {
   "cell_type": "code",
   "execution_count": 40,
   "id": "9b79713b",
   "metadata": {},
   "outputs": [
    {
     "data": {
      "text/plain": [
       "(0.2, 0.6)"
      ]
     },
     "execution_count": 40,
     "metadata": {},
     "output_type": "execute_result"
    },
    {
     "data": {
      "image/png": "[encoded data removed]",
      "text/plain": [
       "<Figure size 288x288 with 1 Axes>"
      ]
     },
     "metadata": {
      "needs_background": "light"
     },
     "output_type": "display_data"
    }
   ],
   "source": [
    "from scipy.stats import gaussian_kde\n",
    "\n",
    "grid = np.linspace(0.1, 1, 100)\n",
    "\n",
    "kde_r = gaussian_kde(r, bw_method = 0.4, \n",
    "                    weights = 1/(2*r_err))\n",
    "\n",
    "plt.figure(figsize = (4,4))\n",
    "plt.plot(grid, kde_r.evaluate(grid), lw = 2)\n",
    "plt.xlabel(r'($^{36}$Cl/$^{39}$Ar)$_{\\rm K}$'); \n",
    "plt.ylabel('Probability Density ')\n",
    "plt.xlim(0.2, 0.6)"
   ]
  },
  {
   "cell_type": "code",
   "execution_count": 41,
   "id": "f7748ccb",
   "metadata": {},
   "outputs": [],
   "source": [
    "\"\"\"\n",
    "Decay and Growth Curves\n",
    "\"\"\"\n",
    "\n",
    "def ingrowth(x, delta_t):\n",
    "    lam = np.log(2)/3.013e5\n",
    "    \n",
    "    z = 1 - np.exp(-lam*delta_t)\n",
    "    \n",
    "    return x/z\n",
    "\n",
    "\n",
    "def decay(x, delta_t): \n",
    "    lam = np.log(2)/269\n",
    "    \n",
    "    z = np.exp(-lam*delta_t)\n",
    "    \n",
    "    return x*z"
   ]
  },
  {
   "cell_type": "code",
   "execution_count": 42,
   "id": "b1190ed8",
   "metadata": {},
   "outputs": [],
   "source": [
    "\"\"\"\n",
    "Growth decay \n",
    "\"\"\"\n",
    "def cl36_ar39(x,y):\n",
    "    delta = np.linspace(0.000001, 2, 1000)\n",
    "    x1 = ingrowth(x, delta)\n",
    "    y1 = decay(y, delta)\n",
    "    \n",
    "    return y1/x1\n"
   ]
  },
  {
   "cell_type": "code",
   "execution_count": 43,
   "id": "8897021a",
   "metadata": {},
   "outputs": [],
   "source": [
    "z = cl36_ar39(df2_cl36.shape[0],df2_39.shape[0])"
   ]
  },
  {
   "cell_type": "code",
   "execution_count": 44,
   "id": "91c91d17",
   "metadata": {},
   "outputs": [
    {
     "data": {
      "image/png": "[encoded data removed]",
      "text/plain": [
       "<Figure size 288x288 with 1 Axes>"
      ]
     },
     "metadata": {
      "needs_background": "light"
     },
     "output_type": "display_data"
    }
   ],
   "source": [
    "plt.figure(figsize = (4,4))\n",
    "plt.plot(np.linspace(0.000001, 2, 1000), z)\n",
    "plt.yscale('log'); \n",
    "plt.xlabel(r'$\\Delta$t$_{\\rm irr}$'); \n",
    "plt.ylabel(r'($^{36}$Ar/$^{39}$Ar)$_{\\rm K}$'); "
   ]
  },
  {
   "cell_type": "code",
   "execution_count": 45,
   "id": "76bf00c8",
   "metadata": {},
   "outputs": [],
   "source": [
    "\"\"\"\n",
    "Monte Carlo for ingrowth/decay\n",
    "\"\"\"\n",
    "n = 1000\n",
    "n2 = 100\n",
    "Curve = np.zeros([n, n2])\n",
    "\"\"\"\n",
    "Decay Constants\n",
    "\"\"\"\n",
    "lamb_cl36 = np.log(2)/(3.07e5)\n",
    "lamb_cl36_err = lamb_cl36 * (0.4/100)\n",
    "lamb_ar39 = np.log(2)/(269)\n",
    "lamb_ar39_err = lamb_ar39 * (1.1/100)\n",
    "delta_t = np.linspace(1e-12, 2, n2)\n",
    "\n",
    "for i in range(n):\n",
    "    r_ = np.random.normal(ratio_wm, ratio_wm_err*5)\n",
    "    lamb_ar39_mc = np.random.normal(lamb_ar39, lamb_ar39_err)\n",
    "    lamb_cl36_mc = np.random.normal(lamb_cl36, lamb_cl36_err)\n",
    "   \n",
    "    q1 = (1 - np.exp(-lamb_cl36_mc*delta_t))\n",
    "    q2 = np.exp(-lamb_ar39_mc*delta_t)\n",
    "\n",
    "    Curve[i,] = r_ * q1/q2"
   ]
  },
  {
   "cell_type": "code",
   "execution_count": 46,
   "id": "5a9dd945",
   "metadata": {},
   "outputs": [],
   "source": [
    "c_68_low, c_68_high = np.percentile(Curve, [50 - 34, \n",
    "                                           50 + 34], \n",
    "                                   axis =0)"
   ]
  },
  {
   "cell_type": "code",
   "execution_count": 47,
   "id": "174ee7f2",
   "metadata": {},
   "outputs": [
    {
     "data": {
      "text/plain": [
       "(0.0, 2.0)"
      ]
     },
     "execution_count": 47,
     "metadata": {},
     "output_type": "execute_result"
    },
    {
     "data": {
      "image/png": "[encoded data removed]",
      "text/plain": [
       "<Figure size 288x288 with 1 Axes>"
      ]
     },
     "metadata": {
      "needs_background": "light"
     },
     "output_type": "display_data"
    }
   ],
   "source": [
    "fig, ax = plt.subplots(1, 1, figsize= (4,4))\n",
    "ax.fill_between(delta_t, c_68_low, c_68_high,\n",
    "               alpha = 0.6, \n",
    "               color = 'RoyalBlue'); \n",
    "\n",
    "ax.plot(delta_t, Curve.mean(axis = 0),\n",
    "               alpha = 1, \n",
    "               color = 'RoyalBlue', \n",
    "       ls = '--');\n",
    "ax.set_xlabel(r'$\\Delta$t$_{\\rm irr}$'); \n",
    "ax.set_ylabel(r'($^{36}$Ar/$^{39}$Ar)$_{\\rm K}$'); \n",
    "ax.set_yscale('log')\n",
    "ax.set_xlim(0, 2)"
   ]
  },
  {
   "cell_type": "code",
   "execution_count": 48,
   "id": "e2be048c",
   "metadata": {},
   "outputs": [
    {
     "data": {
      "image/png": "[encoded data removed]",
      "text/plain": [
       "<Figure size 504x288 with 2 Axes>"
      ]
     },
     "metadata": {
      "needs_background": "light"
     },
     "output_type": "display_data"
    }
   ],
   "source": [
    "fig,ax = plt.subplots(2,1, figsize = (7, 4))\n",
    "\n",
    "\n",
    "ax[0].errorbar(x = 2, y = r2, yerr = r2_err, \n",
    "            fmt = 's', \n",
    "            color = 'k')\n",
    "\n",
    "ax[0].errorbar(x = 3, y = r3, yerr = r3_err, \n",
    "            fmt = 's', \n",
    "            color = 'k')\n",
    "ax[0].errorbar(x = 4, y = r4, yerr = r4_err, \n",
    "            fmt = 's', \n",
    "            color = 'k')\n",
    "ax[0].errorbar(x = 5, y = r5, yerr = r5_err, \n",
    "            fmt = 's', \n",
    "            color = 'k')\n",
    "ax[0].errorbar(x = 6, y = r6, yerr = r6_err, \n",
    "            fmt = 's', \n",
    "            color = 'k')\n",
    "ax[0].errorbar(x = 7, y = r7, yerr = r7_err, \n",
    "            fmt = 's', \n",
    "            color = 'k', \n",
    "              label = 'Ratio')\n",
    "\n",
    "\n",
    "ax[0].axhspan(ratio_wm + ratio_wm_err, \n",
    "           ratio_wm - ratio_wm_err,\n",
    "           alpha = 0.5, \n",
    "           color = 'skyblue', \n",
    "             label = 'Weighted Mean $\\pm$ 1$\\sigma$')\n",
    "\n",
    "ax[0].locator_params(axis = 'y', nbins = 6)\n",
    "ax[0].set_xticks([])\n",
    "ax[0].legend(loc = 4, fontsize = 10)\n",
    "\n",
    "ax[0].set_ylabel(r'($^{36}$Cl/$^{39}$Ar)$_{\\rm K}$'); \n",
    "\n",
    "\n",
    "ax[1].fill_between(delta_t, c_68_low, c_68_high,\n",
    "               alpha = 0.2, \n",
    "               color = 'slategrey'); \n",
    "\n",
    "ax[1].plot(delta_t, Curve.mean(axis = 0),\n",
    "               alpha = 1, \n",
    "               color = 'k', \n",
    "       ls = '--');\n",
    "ax[1].set_xlabel(r'$\\Delta$t$_{\\rm irr}$ (yrs)'); \n",
    "ax[1].set_ylabel(r'($^{36}$Ar/$^{39}$Ar)$_{\\rm K}$'); \n",
    "ax[1].set_yscale('log')\n",
    "ax[1].set_xlim(0, 2)\n",
    "\n",
    "ax[0].text(1.9, 0.45, s = 'A', fontsize= 15)\n",
    "ax[1].text(0.055, 1e-6, s = 'B', fontsize= 15)\n",
    "plt.tight_layout()\n",
    "plt.savefig('/Users/jackcarter/Desktop/Neutron_Irradiation_Paper/Plots_Latest_v2/Figure7_na_correction_curve.pdf')"
   ]
  },
  {
   "cell_type": "code",
   "execution_count": 49,
   "id": "a7522c07",
   "metadata": {},
   "outputs": [],
   "source": [
    "ar36_k39 = ratio_wm\n",
    "ar36_k39_err_mean = ratio_wm_err\n",
    "yy = Curve"
   ]
  },
  {
   "cell_type": "code",
   "execution_count": 50,
   "id": "1a1cfcb7",
   "metadata": {},
   "outputs": [
    {
     "name": "stdout",
     "output_type": "stream",
     "text": [
      "2.6696205516666667 2.66819937\n"
     ]
    }
   ],
   "source": [
    "\"\"\"\n",
    "One Niespolo Sample\n",
    "\"\"\"\n",
    "\n",
    "Ar40_total = 2.71\n",
    "Ar39_total = 4.29\n",
    "Ar36_total = 0.0001402\n",
    "\n",
    "Ar36_cl = Ar39_total/0.9e6\n",
    "\n",
    "Ar36_atm = Ar36_total - Ar36_cl\n",
    "\n",
    "Ar40_atm_1 = Ar36_atm*(298.15)\n",
    "\n",
    "Ar40_atm_2 = Ar36_total*(298.15)\n",
    "\n",
    "Ar40_rad_1 = Ar40_total - Ar40_atm_1\n",
    "\n",
    "Ar40_rad_2 = Ar40_total - Ar40_atm_2\n",
    "\n",
    "\n",
    "print(Ar40_rad_1, Ar40_rad_2)"
   ]
  },
  {
   "cell_type": "code",
   "execution_count": 51,
   "id": "ce755a4c",
   "metadata": {},
   "outputs": [],
   "source": [
    "def delta_age(ar40):\n",
    "    lamb = 5.54e-10\n",
    "    J = 0.001\n",
    "    age = 1/lamb *np.log(1 + J*(ar40))\n",
    "    return age"
   ]
  },
  {
   "cell_type": "code",
   "execution_count": 52,
   "id": "2f56da80",
   "metadata": {},
   "outputs": [
    {
     "name": "stdout",
     "output_type": "stream",
     "text": [
      "4812388.888207802 4809830.406696731\n"
     ]
    },
    {
     "data": {
      "text/plain": [
       "0.05319275930204537"
      ]
     },
     "execution_count": 52,
     "metadata": {},
     "output_type": "execute_result"
    }
   ],
   "source": [
    "age_1 = delta_age(Ar40_rad_1)\n",
    "age_2 = delta_age(Ar40_rad_2)\n",
    "\n",
    "print(age_1, age_2)\n",
    "\n",
    "((age_1/age_2) -1)*100"
   ]
  },
  {
   "cell_type": "code",
   "execution_count": 53,
   "id": "2fdc0b15",
   "metadata": {},
   "outputs": [],
   "source": [
    "age_ac_corr = 1.1847548\n",
    "\n",
    "age_ac_corr_err = age_ac_corr*(0.05/100)"
   ]
  },
  {
   "cell_type": "code",
   "execution_count": 54,
   "id": "811e7e2f",
   "metadata": {},
   "outputs": [],
   "source": [
    "def delta_age(ar40):\n",
    "    lamb = 5.54e-10\n",
    "    J = 0.001\n",
    "    age = 1/lamb *np.log(1 + J*(ar40))\n",
    "    return age"
   ]
  },
  {
   "cell_type": "code",
   "execution_count": 55,
   "id": "897534c7",
   "metadata": {},
   "outputs": [],
   "source": [
    "\"\"\"\n",
    "Ar39\n",
    "\"\"\"\n",
    "\n",
    "Ar36_Ar39 = (1/np.random.normal(0.8e6, 0.4e6))\n"
   ]
  },
  {
   "cell_type": "code",
   "execution_count": 56,
   "id": "07a9d131",
   "metadata": {},
   "outputs": [],
   "source": [
    "n_sim = 1000\n",
    "\n",
    "\n",
    "Ar40_rad_1 = np.zeros(n_sim)\n",
    "Ar40_rad_2 = np.zeros(n_sim)\n",
    "\n",
    "Ar36_Ar39_K = np.zeros(n_sim)\n",
    "\n",
    "Ar36_atm_n_correction = 1e-7\n",
    "\n",
    "for i in range(n_sim):\n",
    "\n",
    "    \n",
    "    Ar36_Ar39_K[i] = (np.random.normal(0.8e-6, 0.2e-6))\n",
    "\n",
    "    if Ar36_Ar39_K[i] < 0: \n",
    "        Ar36_Ar39_K[i] = 1e-6\n",
    "    \n",
    "    Ar39 = np.random.uniform(30, 60)\n",
    "    \n",
    "    Ar36_atm = Ar36_atm_n_correction - (Ar39*(Ar36_Ar39_K[i]))\n",
    "    \n",
    "    Ar40_atm_1 = 298.15*Ar36_atm\n",
    "    \n",
    "    Ar40_atm_2 = 298.15*Ar36_atm_n_correction\n",
    "\n",
    "    Ar40_rad_1[i] = 1 - Ar40_atm_1\n",
    "    Ar40_rad_2[i] = 1 - Ar40_atm_2\n"
   ]
  },
  {
   "cell_type": "code",
   "execution_count": 57,
   "id": "113621f8",
   "metadata": {},
   "outputs": [
    {
     "data": {
      "image/png": "[encoded data removed]",
      "text/plain": [
       "<Figure size 288x288 with 1 Axes>"
      ]
     },
     "metadata": {
      "needs_background": "light"
     },
     "output_type": "display_data"
    }
   ],
   "source": [
    "plt.figure(figsize = (4,4))\n",
    "plt.hist(Ar36_Ar39_K, edgecolor = 'k', bins = 23, \n",
    "        color= 'skyblue', alpha = 0.8); \n",
    "#plt.xlim(0, 0.2e-5)\n",
    "plt.xlabel('($^{36}$Ar/$^{39}$Ar)$_{K}$')\n",
    "plt.ylabel('Frequency'); \n",
    "plt.grid()\n",
    "plt.tight_layout()"
   ]
  },
  {
   "cell_type": "code",
   "execution_count": 58,
   "id": "50577173",
   "metadata": {},
   "outputs": [],
   "source": [
    "def age(Ar40_rad):\n",
    "    \n",
    "    lamb = 5.54e-10\n",
    "    \n",
    "    J = 0.03\n",
    "    \n",
    "    age = (1/lamb)*np.log(1 + J*(Ar40_rad))\n",
    "    \n",
    "    return age"
   ]
  },
  {
   "cell_type": "code",
   "execution_count": 59,
   "id": "f5f89071",
   "metadata": {},
   "outputs": [],
   "source": [
    "age_ar36cl = np.zeros(n_sim)\n",
    "age_ = np.zeros(n_sim)\n",
    "\n",
    "for i in range(n_sim):\n",
    "    age_ar36cl[i] = age(Ar40_rad_1[i])\n",
    "    age_[i] = age(Ar40_rad_2[i])"
   ]
  },
  {
   "cell_type": "code",
   "execution_count": 60,
   "id": "389e403e",
   "metadata": {},
   "outputs": [
    {
     "data": {
      "text/plain": [
       "Text(0.5, 0, '$\\\\%$ change in Age')"
      ]
     },
     "execution_count": 60,
     "metadata": {},
     "output_type": "execute_result"
    },
    {
     "data": {
      "image/png": "[encoded data removed]",
      "text/plain": [
       "<Figure size 288x288 with 1 Axes>"
      ]
     },
     "metadata": {
      "needs_background": "light"
     },
     "output_type": "display_data"
    }
   ],
   "source": [
    "plt.figure(figsize = (4,4))\n",
    "\n",
    "plt.hist(((age_ar36cl)/age_ - 1)*100, \n",
    "         edgecolor = 'k', color= 'lime', \n",
    "        bins = 40)\n",
    "plt.ylabel('Frequency')\n",
    "plt.xlabel('$\\%$ change in Age')"
   ]
  },
  {
   "cell_type": "code",
   "execution_count": 61,
   "id": "7c31dd93",
   "metadata": {},
   "outputs": [],
   "source": [
    "m_corr, c_corr = np.polyfit(Ar36_Ar39_K, (age_ar36cl)/age_, 1)"
   ]
  },
  {
   "cell_type": "code",
   "execution_count": 62,
   "id": "2eba1f4b",
   "metadata": {},
   "outputs": [
    {
     "data": {
      "text/plain": [
       "array([1.00484709, 1.01804185])"
      ]
     },
     "execution_count": 62,
     "metadata": {},
     "output_type": "execute_result"
    }
   ],
   "source": [
    "np.percentile((age_ar36cl)/age_, [2.5, 97.5],axis = 0)"
   ]
  },
  {
   "cell_type": "code",
   "execution_count": 63,
   "id": "0af3f9fd",
   "metadata": {},
   "outputs": [],
   "source": [
    "yy = Curve"
   ]
  },
  {
   "cell_type": "code",
   "execution_count": 64,
   "id": "eddfe996",
   "metadata": {},
   "outputs": [],
   "source": [
    "Ar40_rad_1 = np.zeros([1000, 100])\n",
    "Ar40_rad_2 = np.zeros([1000, 100])\n",
    "Ar36_atm_n_correction = 1e-7\n",
    "for i in range(1000):\n",
    "    zz = yy[i,]\n",
    "    Ar39 = np.random.normal(15, 0.02)\n",
    "    Ar36_atm = Ar36_atm_n_correction - (Ar39*(zz))\n",
    "    \n",
    "    Ar40_atm_1 = 298.15*Ar36_atm\n",
    "    \n",
    "    Ar40_atm_2 = 298.15*Ar36_atm_n_correction\n",
    "    \n",
    "    \n",
    "    Ar40_rad_1[i,] = 1 - Ar40_atm_1\n",
    "    Ar40_rad_2[i,] = 1 - Ar40_atm_2"
   ]
  },
  {
   "cell_type": "code",
   "execution_count": 65,
   "id": "98e48617",
   "metadata": {},
   "outputs": [],
   "source": [
    "age_cl_corrected = age(Ar40_rad_1)\n",
    "age_normal = age(Ar40_rad_2)"
   ]
  },
  {
   "cell_type": "code",
   "execution_count": 66,
   "id": "3545db7f",
   "metadata": {},
   "outputs": [],
   "source": [
    "low_age68, high_age68 = np.percentile(age_cl_corrected/age_normal, \n",
    "                                      [50-34, 50+34], axis = 0)\n",
    "\n",
    "\n",
    "low_age95, high_age95 = np.percentile(age_cl_corrected /age_normal, \n",
    "                                      [2.5, 97.5], axis = 0)"
   ]
  },
  {
   "cell_type": "code",
   "execution_count": 69,
   "id": "439bc394",
   "metadata": {},
   "outputs": [
    {
     "data": {
      "image/png": "[encoded data removed]",
      "text/plain": [
       "<Figure size 302.4x302.4 with 2 Axes>"
      ]
     },
     "metadata": {
      "needs_background": "light"
     },
     "output_type": "display_data"
    }
   ],
   "source": [
    "fig, ax = plt.subplots(1,1, figsize = (4.2,4.2))\n",
    "ax.fill_between(yy.mean(axis = 0), low_age68, high_age68, \n",
    "               color = 'slategrey', alpha = 0.6, \n",
    "               label = '68%')\n",
    "ax.fill_between(yy.mean(axis = 0), low_age95, high_age95,\n",
    "               color = 'slategrey', alpha = 0.2, \n",
    "               label = '95%')\n",
    "ax.legend(fontsize = 11, loc = 2)\n",
    "ax2 = ax.twiny()\n",
    "ax2.plot(delta_t, low_age68, high_age68, alpha = 0)\n",
    "ax.set_xlim(0, 1.83e-6)\n",
    "ax2.set_xlim(0, 2)\n",
    "ax2.set_xlabel(r'$\\Delta$t$_{\\rm irr}$ (yr)')\n",
    "ax.set_xlabel('($^{36}$Ar/$^{39}$Ar)$_{K}$')\n",
    "ax.set_ylabel(r'Age$_{\\rm corr}$/Age')\n",
    "ax.locator_params(axis = 'x', nbins = 7)\n",
    "plt.tight_layout()\n",
    "plt.savefig('/Users/jackcarter/Desktop/Neutron_Irradiation_Paper/Plots_Latest_v2/Figure10_age_correction.pdf')"
   ]
  },
  {
   "cell_type": "code",
   "execution_count": null,
   "id": "e9196810",
   "metadata": {},
   "outputs": [],
   "source": []
  },
  {
   "cell_type": "code",
   "execution_count": null,
   "id": "b2a7645e",
   "metadata": {},
   "outputs": [],
   "source": []
  },
  {
   "cell_type": "code",
   "execution_count": null,
   "id": "872b1bdb",
   "metadata": {},
   "outputs": [],
   "source": []
  },
  {
   "cell_type": "code",
   "execution_count": null,
   "id": "54a5984d",
   "metadata": {},
   "outputs": [],
   "source": []
  }
 ],
 "metadata": {
  "kernelspec": {
   "display_name": "Python 3",
   "language": "python",
   "name": "python3"
  },
  "language_info": {
   "codemirror_mode": {
    "name": "ipython",
    "version": 3
   },
   "file_extension": ".py",
   "mimetype": "text/x-python",
   "name": "python",
   "nbconvert_exporter": "python",
   "pygments_lexer": "ipython3",
   "version": "3.8.8"
  }
 },
 "nbformat": 4,
 "nbformat_minor": 5
}
