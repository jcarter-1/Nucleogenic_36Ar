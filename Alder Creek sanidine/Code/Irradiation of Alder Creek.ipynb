{
 "cells": [
  {
   "cell_type": "markdown",
   "id": "aa5ea082",
   "metadata": {},
   "source": [
    "# Irradiation of Alder Creek sanidine\n",
    "\n",
    "* Here we read in the results of a simulated irradiation of an Alder Creek sanidine type sample\n",
    "* The production pathways are tracked \n",
    "* Data from this simulation is used to create: \n",
    "    * Figure 3"
   ]
  },
  {
   "cell_type": "code",
   "execution_count": 129,
   "id": "bb8682e7",
   "metadata": {},
   "outputs": [],
   "source": [
    "import numpy as np \n",
    "import matplotlib.pyplot as plt \n",
    "import matplotlib as mpl\n",
    "import pandas as pd\n",
    "\n",
    "\"\"\"\n",
    "Plots\n",
    "\"\"\"\n",
    "mpl.rcParams['font.size'] = 14"
   ]
  },
  {
   "cell_type": "code",
   "execution_count": 130,
   "id": "05477626",
   "metadata": {},
   "outputs": [
    {
     "data": {
      "text/plain": [
       "'\\nPart 1 - Read in Data\\n'"
      ]
     },
     "execution_count": 130,
     "metadata": {},
     "output_type": "execute_result"
    }
   ],
   "source": [
    "import pandas as pd\n",
    "import os \n",
    "\n",
    "\"\"\"\n",
    "Part 1 - Read in Data\n",
    "\"\"\""
   ]
  },
  {
   "cell_type": "code",
   "execution_count": null,
   "id": "fd30a7ce",
   "metadata": {},
   "outputs": [],
   "source": []
  },
  {
   "cell_type": "code",
   "execution_count": 106,
   "id": "69ec1dea",
   "metadata": {},
   "outputs": [],
   "source": []
  },
  {
   "cell_type": "code",
   "execution_count": 107,
   "id": "8fe143f0",
   "metadata": {},
   "outputs": [],
   "source": [
    "df = pd.DataFrame(pd.read_csv(file_list[0], skiprows = 20))\n",
    "df = df.set_axis([\"Neutron_energy\",\n",
    "                    \"tZ\", \"tA\", \n",
    "                        \"Z\", \"A\", \n",
    "                    \"Nuclide_energy\", \n",
    "                     \"time\"], axis = 1, inplace = False)\n",
    "for i in range(0, 18):\n",
    "    data = pd.read_csv(file_list[i], skiprows = 20)\n",
    "    df1 = pd.DataFrame(data)\n",
    "    df1 = df1.set_axis([\"Neutron_energy\",\n",
    "                    \"tZ\", \"tA\", \n",
    "                        \"Z\", \"A\", \n",
    "                    \"Nuclide_energy\", \n",
    "                     \"time\"], axis = 1, inplace = False)\n",
    "    df = pd.concat([df, df1])"
   ]
  },
  {
   "cell_type": "code",
   "execution_count": 108,
   "id": "0970f976",
   "metadata": {},
   "outputs": [
    {
     "data": {
      "text/html": [
       "<div>\n",
       "<style scoped>\n",
       "    .dataframe tbody tr th:only-of-type {\n",
       "        vertical-align: middle;\n",
       "    }\n",
       "\n",
       "    .dataframe tbody tr th {\n",
       "        vertical-align: top;\n",
       "    }\n",
       "\n",
       "    .dataframe thead th {\n",
       "        text-align: right;\n",
       "    }\n",
       "</style>\n",
       "<table border=\"1\" class=\"dataframe\">\n",
       "  <thead>\n",
       "    <tr style=\"text-align: right;\">\n",
       "      <th></th>\n",
       "      <th>Neutron_energy</th>\n",
       "      <th>tZ</th>\n",
       "      <th>tA</th>\n",
       "      <th>Z</th>\n",
       "      <th>A</th>\n",
       "      <th>Nuclide_energy</th>\n",
       "      <th>time</th>\n",
       "    </tr>\n",
       "  </thead>\n",
       "  <tbody>\n",
       "    <tr>\n",
       "      <th>0</th>\n",
       "      <td>1.70360</td>\n",
       "      <td>13</td>\n",
       "      <td>27</td>\n",
       "      <td>13</td>\n",
       "      <td>27</td>\n",
       "      <td>0.164554</td>\n",
       "      <td>0.285352</td>\n",
       "    </tr>\n",
       "    <tr>\n",
       "      <th>1</th>\n",
       "      <td>1.06658</td>\n",
       "      <td>8</td>\n",
       "      <td>16</td>\n",
       "      <td>8</td>\n",
       "      <td>16</td>\n",
       "      <td>0.299703</td>\n",
       "      <td>0.340795</td>\n",
       "    </tr>\n",
       "    <tr>\n",
       "      <th>2</th>\n",
       "      <td>1.16908</td>\n",
       "      <td>8</td>\n",
       "      <td>16</td>\n",
       "      <td>8</td>\n",
       "      <td>16</td>\n",
       "      <td>0.262413</td>\n",
       "      <td>0.321495</td>\n",
       "    </tr>\n",
       "    <tr>\n",
       "      <th>3</th>\n",
       "      <td>1.30746</td>\n",
       "      <td>8</td>\n",
       "      <td>16</td>\n",
       "      <td>8</td>\n",
       "      <td>16</td>\n",
       "      <td>0.288151</td>\n",
       "      <td>0.305287</td>\n",
       "    </tr>\n",
       "    <tr>\n",
       "      <th>4</th>\n",
       "      <td>1.38020</td>\n",
       "      <td>8</td>\n",
       "      <td>16</td>\n",
       "      <td>8</td>\n",
       "      <td>16</td>\n",
       "      <td>0.239210</td>\n",
       "      <td>0.316562</td>\n",
       "    </tr>\n",
       "  </tbody>\n",
       "</table>\n",
       "</div>"
      ],
      "text/plain": [
       "   Neutron_energy  tZ  tA   Z   A  Nuclide_energy      time\n",
       "0         1.70360  13  27  13  27        0.164554  0.285352\n",
       "1         1.06658   8  16   8  16        0.299703  0.340795\n",
       "2         1.16908   8  16   8  16        0.262413  0.321495\n",
       "3         1.30746   8  16   8  16        0.288151  0.305287\n",
       "4         1.38020   8  16   8  16        0.239210  0.316562"
      ]
     },
     "execution_count": 108,
     "metadata": {},
     "output_type": "execute_result"
    }
   ],
   "source": [
    "df.head()"
   ]
  },
  {
   "cell_type": "code",
   "execution_count": 109,
   "id": "9d664f75",
   "metadata": {},
   "outputs": [],
   "source": [
    "df = df.set_axis([\"Neutron_energy\",\n",
    "                    \"tZ\", \"tA\", \n",
    "                        \"Z\", \"A\", \n",
    "                    \"Nuclide_energy\", \n",
    "                     \"time\"], axis = 1, inplace = False)"
   ]
  },
  {
   "cell_type": "code",
   "execution_count": 110,
   "id": "99d0e7a8",
   "metadata": {},
   "outputs": [
    {
     "data": {
      "text/html": [
       "<div>\n",
       "<style scoped>\n",
       "    .dataframe tbody tr th:only-of-type {\n",
       "        vertical-align: middle;\n",
       "    }\n",
       "\n",
       "    .dataframe tbody tr th {\n",
       "        vertical-align: top;\n",
       "    }\n",
       "\n",
       "    .dataframe thead th {\n",
       "        text-align: right;\n",
       "    }\n",
       "</style>\n",
       "<table border=\"1\" class=\"dataframe\">\n",
       "  <thead>\n",
       "    <tr style=\"text-align: right;\">\n",
       "      <th></th>\n",
       "      <th>Neutron_energy</th>\n",
       "      <th>tZ</th>\n",
       "      <th>tA</th>\n",
       "      <th>Z</th>\n",
       "      <th>A</th>\n",
       "      <th>Nuclide_energy</th>\n",
       "      <th>time</th>\n",
       "    </tr>\n",
       "  </thead>\n",
       "  <tbody>\n",
       "    <tr>\n",
       "      <th>0</th>\n",
       "      <td>1.70360</td>\n",
       "      <td>13</td>\n",
       "      <td>27</td>\n",
       "      <td>13</td>\n",
       "      <td>27</td>\n",
       "      <td>0.164554</td>\n",
       "      <td>0.285352</td>\n",
       "    </tr>\n",
       "    <tr>\n",
       "      <th>1</th>\n",
       "      <td>1.06658</td>\n",
       "      <td>8</td>\n",
       "      <td>16</td>\n",
       "      <td>8</td>\n",
       "      <td>16</td>\n",
       "      <td>0.299703</td>\n",
       "      <td>0.340795</td>\n",
       "    </tr>\n",
       "    <tr>\n",
       "      <th>2</th>\n",
       "      <td>1.16908</td>\n",
       "      <td>8</td>\n",
       "      <td>16</td>\n",
       "      <td>8</td>\n",
       "      <td>16</td>\n",
       "      <td>0.262413</td>\n",
       "      <td>0.321495</td>\n",
       "    </tr>\n",
       "    <tr>\n",
       "      <th>3</th>\n",
       "      <td>1.30746</td>\n",
       "      <td>8</td>\n",
       "      <td>16</td>\n",
       "      <td>8</td>\n",
       "      <td>16</td>\n",
       "      <td>0.288151</td>\n",
       "      <td>0.305287</td>\n",
       "    </tr>\n",
       "    <tr>\n",
       "      <th>4</th>\n",
       "      <td>1.38020</td>\n",
       "      <td>8</td>\n",
       "      <td>16</td>\n",
       "      <td>8</td>\n",
       "      <td>16</td>\n",
       "      <td>0.239210</td>\n",
       "      <td>0.316562</td>\n",
       "    </tr>\n",
       "  </tbody>\n",
       "</table>\n",
       "</div>"
      ],
      "text/plain": [
       "   Neutron_energy  tZ  tA   Z   A  Nuclide_energy      time\n",
       "0         1.70360  13  27  13  27        0.164554  0.285352\n",
       "1         1.06658   8  16   8  16        0.299703  0.340795\n",
       "2         1.16908   8  16   8  16        0.262413  0.321495\n",
       "3         1.30746   8  16   8  16        0.288151  0.305287\n",
       "4         1.38020   8  16   8  16        0.239210  0.316562"
      ]
     },
     "execution_count": 110,
     "metadata": {},
     "output_type": "execute_result"
    }
   ],
   "source": [
    "df.head()"
   ]
  },
  {
   "cell_type": "code",
   "execution_count": 111,
   "id": "da5bb12b",
   "metadata": {},
   "outputs": [
    {
     "data": {
      "image/png": "[encoded data removed]",
      "text/plain": [
       "<Figure size 288x288 with 1 Axes>"
      ]
     },
     "metadata": {
      "needs_background": "light"
     },
     "output_type": "display_data"
    }
   ],
   "source": [
    "\n",
    "plt.figure(figsize = (4,4))\n",
    "plt.hist(df['A'].values, \n",
    "        bins = 40, \n",
    "        edgecolor = 'k'); \n",
    "\n",
    "plt.xlabel('A'); \n",
    "plt.ylabel('Z'); "
   ]
  },
  {
   "cell_type": "code",
   "execution_count": 112,
   "id": "cf6e29a2",
   "metadata": {},
   "outputs": [],
   "source": [
    "n = np.unique(df['A'].values).shape[0]\n",
    "n_secondaries = np.zeros(n)\n",
    "\n",
    "for i in range(n):\n",
    "    n_secondaries[i] = np.array(df[df['Z'] == i].shape[0])"
   ]
  },
  {
   "cell_type": "code",
   "execution_count": 113,
   "id": "195d88bb",
   "metadata": {},
   "outputs": [
    {
     "data": {
      "image/png": "[encoded data removed]",
      "text/plain": [
       "<Figure size 576x144 with 1 Axes>"
      ]
     },
     "metadata": {
      "needs_background": "light"
     },
     "output_type": "display_data"
    }
   ],
   "source": [
    "plt.figure(figsize = (8, 2))\n",
    "for i in range(n):\n",
    "    \n",
    "    plt.bar(i,n_secondaries[i], \n",
    "           color = 'skyblue', alpha = 0.7, \n",
    "           edgecolor = 'k')\n",
    "plt.yscale('symlog'); \n",
    "plt.xlim(0, 21)\n",
    "plt.xlabel('Z')\n",
    "plt.ylabel('log (# of nuclei)')\n",
    "plt.locator_params(axis = 'x', nbins = 22)\n",
    "plt.grid()"
   ]
  },
  {
   "cell_type": "code",
   "execution_count": 114,
   "id": "0e5eaef6",
   "metadata": {},
   "outputs": [
    {
     "data": {
      "text/plain": [
       "43"
      ]
     },
     "execution_count": 114,
     "metadata": {},
     "output_type": "execute_result"
    }
   ],
   "source": [
    "\"\"\"\n",
    "Read Off\n",
    "\n",
    "List of created Nuclei\n",
    "\"\"\"\n",
    "N_secondaries = np.array([42392,\n",
    "  1957,60,1, 63, 3, 2326,\n",
    "    25,68, 1, 5421, 46,  1, 1089,\n",
    "    10,  14,   2,  33,   2, 612,\n",
    "     5,33,11332, 284,1257,  7,951,\n",
    "    83,353,622, 24, 89, 12205,\n",
    "   148,  2,40, 391966, 191,912,\n",
    " 94706,5376,2958, 3])\n",
    "\n",
    "List_secondaries = ['$^{27}$Al', '$^{28}$Al', '$^{29}$Al', \n",
    "                    '$^{37}$Ar', '$^{38}$Ar', '$^{39}$Ar', \n",
    "                   '$^{40}$Ar', '$^{41}$Ar', '$^{11}$B',\n",
    "                    '$^{12}$C', '$^{13}$C', '$^{14}$C', '$^{15}$C',\n",
    "                   '$^{40}$Ca', '$^{41}$Ca', '$^{42}$Ca', '$^{43}$Ca',\n",
    "                    '$^{44}$Ca',  '$^{48}$Ca', '$^{36}$Cl', \n",
    "                   '$^{38}$Cl' ,'$^{20}$F', '$^{39}$K',\n",
    "                    '$^{40}$K', '$^{41}$K',\n",
    "                    '$^{42}$K', '$^{25}$Mg', '$^{26}$Mg', \n",
    "                   '$^{27}$Mg', '$^{14}$N', '$^{15}$N', '$^{16}$N', \n",
    "                    '$^{23}$Na', '$^{24}$Na', '$^{22}$Ne', '$^{23}$Ne', \n",
    "                   '$^{16}$O', '$^{17}$O', '$^{18}$O', '$^{28}$Si',\n",
    "                    '$^{29}$Si', '$^{30}$Si', '$^{31}$Si']\n",
    "\n",
    "len(List_secondaries)"
   ]
  },
  {
   "cell_type": "code",
   "execution_count": 115,
   "id": "2578ba46",
   "metadata": {},
   "outputs": [],
   "source": [
    "\"\"\"\n",
    "Production of Argon\n",
    "\"\"\"\n",
    "argon = df[df['Z'] == 18]\n",
    "\"\"\"\n",
    "36Ar\n",
    "\"\"\"\n",
    "ar36 = argon[argon['A'] == 36]\n",
    "\n",
    "\"\"\"\n",
    "36Ar\n",
    "\"\"\"\n",
    "ar37 = argon[argon['A'] == 37]\n",
    "\"\"\"\n",
    "36Ar\n",
    "\"\"\"\n",
    "ar38 = argon[argon['A'] == 38]\n",
    "\"\"\"\n",
    "36Ar\n",
    "\"\"\"\n",
    "ar39 = argon[argon['A'] == 39]\n",
    "\"\"\"\n",
    "36Ar\n",
    "\"\"\"\n",
    "ar40 = argon[argon['A'] == 40]"
   ]
  },
  {
   "cell_type": "code",
   "execution_count": 116,
   "id": "0673039b",
   "metadata": {},
   "outputs": [],
   "source": [
    "\"\"\"\n",
    "Chlorine\n",
    "\"\"\"\n",
    "chlorine = df[df['Z'] == 17]\n"
   ]
  },
  {
   "cell_type": "code",
   "execution_count": 117,
   "id": "595be500",
   "metadata": {},
   "outputs": [],
   "source": [
    "\"\"\"\n",
    "Cl36\n",
    "\"\"\"\n",
    "cl36 = chlorine[chlorine['A'] == 36]\n",
    "\"\"\"\n",
    "Cl36\n",
    "\"\"\"\n",
    "cl38 = chlorine[chlorine['A'] == 38]"
   ]
  },
  {
   "cell_type": "code",
   "execution_count": 118,
   "id": "9fe61560",
   "metadata": {},
   "outputs": [],
   "source": [
    "\"\"\"\n",
    "Cl from K\n",
    "\"\"\"\n",
    "cl38_k = cl38[cl38['tZ'] == 19]\n",
    "cl36_k = cl36[cl36['tZ'] == 19]"
   ]
  },
  {
   "cell_type": "code",
   "execution_count": 119,
   "id": "cfc12435",
   "metadata": {},
   "outputs": [],
   "source": [
    "\"\"\"\n",
    "Ar from K\n",
    "\"\"\"\n",
    "ar37_k = ar37[ar37['tZ'] == 19]\n",
    "ar38_k = ar38[ar38['tZ'] == 19]\n",
    "ar39_k = ar39[ar39['tZ'] == 19]\n",
    "ar40_k = ar40[ar40['tZ'] == 19]"
   ]
  },
  {
   "cell_type": "code",
   "execution_count": 120,
   "id": "f02f3941",
   "metadata": {},
   "outputs": [
    {
     "name": "stdout",
     "output_type": "stream",
     "text": [
      "0 58 3706 2\n"
     ]
    }
   ],
   "source": [
    "print(ar37_k.shape[0], \n",
    "      ar38_k.shape[0],\n",
    "      ar39_k.shape[0],\n",
    "      ar40_k.shape[0])"
   ]
  },
  {
   "cell_type": "code",
   "execution_count": 121,
   "id": "0db6a55d",
   "metadata": {},
   "outputs": [],
   "source": [
    "\"\"\"\n",
    "Ar from Ar\n",
    "\"\"\"\n",
    "ar37_ar = ar37[ar37['tZ'] == 18]\n",
    "ar38_ar = ar38[ar38['tZ'] == 18]\n",
    "ar39_ar = ar39[ar39['tZ'] == 18]\n",
    "ar40_ar = ar40[ar40['tZ'] == 18]"
   ]
  },
  {
   "cell_type": "code",
   "execution_count": 122,
   "id": "0ab16159",
   "metadata": {},
   "outputs": [
    {
     "name": "stdout",
     "output_type": "stream",
     "text": [
      "0 0 0 29\n"
     ]
    }
   ],
   "source": [
    "print(ar37_ar.shape[0], \n",
    "      ar38_ar.shape[0],\n",
    "      ar39_ar.shape[0],\n",
    "      ar40_ar.shape[0])"
   ]
  },
  {
   "cell_type": "code",
   "execution_count": 123,
   "id": "018c4a30",
   "metadata": {},
   "outputs": [],
   "source": [
    "\"\"\"\n",
    "Ar from Ca\n",
    "\"\"\"\n",
    "ar37_ca = ar37[ar37['tZ'] == 20]\n",
    "ar38_ca = ar38[ar38['tZ'] == 20]\n",
    "ar39_ca = ar39[ar39['tZ'] == 20]\n",
    "ar40_ca = ar40[ar40['tZ'] == 20]"
   ]
  },
  {
   "cell_type": "code",
   "execution_count": 124,
   "id": "6dd39749",
   "metadata": {},
   "outputs": [
    {
     "name": "stdout",
     "output_type": "stream",
     "text": [
      "133 0 0 0\n"
     ]
    }
   ],
   "source": [
    "print(ar37_ca.shape[0], \n",
    "      ar38_ca.shape[0],\n",
    "      ar39_ca.shape[0],\n",
    "      ar40_ca.shape[0])"
   ]
  },
  {
   "cell_type": "code",
   "execution_count": 127,
   "id": "71214c6d",
   "metadata": {},
   "outputs": [
    {
     "data": {
      "image/png": "[encoded data removed]",
      "text/plain": [
       "<Figure size 576x360 with 5 Axes>"
      ]
     },
     "metadata": {
      "needs_background": "light"
     },
     "output_type": "display_data"
    }
   ],
   "source": [
    "fig, ax = plt.subplots(2,3, figsize = (8,5))\n",
    "\n",
    "ax[1,2].remove()\n",
    "\n",
    "\"\"\"\n",
    "36Ar\n",
    "\"\"\"\n",
    "ax[0,0].bar(1, cl36_k.shape[0]/cl36_k.shape[0], \n",
    "            label = r'$^{39}$K(n,$\\alpha$,$\\beta$)$^{36}$Ar', \n",
    "           color = 'skyblue', edgecolor = 'k')\n",
    "\n",
    "ax[0,0].set_xlim(0,4)\n",
    "ax[0,0].set_xticks([])\n",
    "ax[0,0].legend(fontsize= 9, frameon = True)\n",
    "ax[0,0].locator_params(axis = 'y', nbins = 6)\n",
    "\n",
    "\"\"\"\n",
    "37Ar\n",
    "\"\"\"\n",
    "ax[0,1].bar(1,ar37_ca.shape[0]/ar37_ca.shape[0], \n",
    "            label = r'$^{40}$Ca(n,$\\alpha$)$^{37}$Ar', \n",
    "           color = 'green', edgecolor = 'k')\n",
    "\n",
    "ax[0,1].set_xticks([]);\n",
    "ax[0,1].set_yticks([])\n",
    "ax[0,1].set_xlim(0,4)\n",
    "\n",
    "ax[0,1].legend(fontsize= 9, frameon = True)\n",
    "\n",
    "\n",
    "\"\"\"\n",
    "38Ar\n",
    "\"\"\"\n",
    "ax[0,2].bar(1,ar38_k.shape[0]/(ar38_k.shape[0] + cl38_k.shape[0]), \n",
    "            label = r'$^{39}$K(n,np)$^{38}$Ar',  \n",
    "           color = 'slategrey', edgecolor = 'k')\n",
    "ax[0,2].bar(2,cl38_k.shape[0]/(ar38_k.shape[0] + cl38_k.shape[0]) , \n",
    "            label = r'$^{41}$K(n,$\\alpha$,$\\beta$)$^{38}$Ar',  \n",
    "           color = 'orange', edgecolor = 'k')\n",
    "\n",
    "ax[0,2].set_xticks([]);\n",
    "ax[0,2].set_yticks([])\n",
    "ax[0,2].set_xlim(0,4)\n",
    "\n",
    "ax[0,2].legend(fontsize= 9, frameon = True)\n",
    "\n",
    "\n",
    "\"\"\"\n",
    "39Ar\n",
    "\"\"\"\n",
    "ax[1,0].bar(1,ar39_k.shape[0]/(ar39_k.shape[0] + ar39_ca.shape[0]), \n",
    "            label = r'$^{39}$K(n,p)$^{39}$Ar',  \n",
    "           color = 'red', edgecolor = 'k')\n",
    "\n",
    "\n",
    "ax[1,0].set_xticks([]);\n",
    "#ax[1,0].set_yticks([])\n",
    "ax[1,0].set_xlim(0,4)\n",
    "ax[1,0].locator_params(axis = 'y', nbins = 6)\n",
    "\n",
    "ax[1,0].legend(fontsize= 9, frameon = True)\n",
    "\n",
    "\n",
    "\"\"\"\n",
    "40Ar\n",
    "\"\"\"\n",
    "ax[1,1].bar(1,ar40_k.shape[0]/(ar40_k.shape[0]), \n",
    "            label = r'$^{40}$K(n,p)$^{40}$Ar',  \n",
    "           color = 'm', edgecolor = 'k')\n",
    "\n",
    "\n",
    "ax[1,1].set_xticks([]);\n",
    "ax[1,1].set_yticks([])\n",
    "ax[1,1].set_xlim(0,4)\n",
    "\n",
    "ax[1,1].legend(fontsize= 9, frameon = True)\n",
    "\n",
    "\"\"\"\n",
    "Add Text\n",
    "\"\"\"\n",
    "ax[0,0].text(3.45, 0.1, 'A', fontsize = 15)\n",
    "ax[0,1].text(3.45, 0.1, 'B', fontsize = 15)\n",
    "ax[0,2].text(3.45, 0.1, 'C', fontsize = 15)\n",
    "ax[1,0].text(3.45, 0.1, 'D', fontsize = 15)\n",
    "ax[1,1].text(3.45, 0.1, 'E', fontsize = 15)\n",
    "\n",
    "ax[0,0].set_ylabel('Normalised production of Ar', loc = 'top')\n",
    "\n",
    "plt.tight_layout()\n"
   ]
  },
  {
   "cell_type": "code",
   "execution_count": null,
   "id": "f4a0d253",
   "metadata": {},
   "outputs": [],
   "source": []
  },
  {
   "cell_type": "code",
   "execution_count": null,
   "id": "e3a85920",
   "metadata": {},
   "outputs": [],
   "source": []
  },
  {
   "cell_type": "code",
   "execution_count": null,
   "id": "bbfa5167",
   "metadata": {},
   "outputs": [],
   "source": []
  }
 ],
 "metadata": {
  "kernelspec": {
   "display_name": "Python 3",
   "language": "python",
   "name": "python3"
  },
  "language_info": {
   "codemirror_mode": {
    "name": "ipython",
    "version": 3
   },
   "file_extension": ".py",
   "mimetype": "text/x-python",
   "name": "python",
   "nbconvert_exporter": "python",
   "pygments_lexer": "ipython3",
   "version": "3.8.8"
  }
 },
 "nbformat": 4,
 "nbformat_minor": 5
}
