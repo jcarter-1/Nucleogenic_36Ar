{
 "cells": [
  {
   "cell_type": "markdown",
   "id": "fe24fdab",
   "metadata": {},
   "source": [
    "# Nuclei and Particles form and scattered during irradiation of feldspar type sample"
   ]
  },
  {
   "cell_type": "code",
   "execution_count": 13,
   "id": "6d97776a",
   "metadata": {},
   "outputs": [],
   "source": [
    "import numpy as np \n",
    "import seaborn as sns\n",
    "import matplotlib.pyplot as plt\n",
    "\n",
    "\"\"\"\n",
    "Plotting\n",
    "\"\"\"\n",
    "import matplotlib as mpl\n",
    "mpl.rcParams['font.size'] = 15\n"
   ]
  },
  {
   "cell_type": "code",
   "execution_count": null,
   "id": "69cf7e2c",
   "metadata": {},
   "outputs": [],
   "source": []
  },
  {
   "cell_type": "code",
   "execution_count": 14,
   "id": "0162888d",
   "metadata": {},
   "outputs": [
    {
     "name": "stdout",
     "output_type": "stream",
     "text": [
      "43 43\n"
     ]
    }
   ],
   "source": [
    "\"\"\"\n",
    "List of created Nuclei\n",
    "\"\"\"\n",
    "N_secondaries = np.array([42392,\n",
    "  1957,60,1, 63, 3, 2326,\n",
    "    25,68, 1, 5421, 46,  1, 1089,\n",
    "    10,  14,   2,  33,   2, 612,\n",
    "     5,33,11332, 284,1257,  7,951,\n",
    "    83,353,622, 24, 89, 12205,\n",
    "   148,  2,40, 391966, 191,912,\n",
    " 94706,5376,2958, 3])\n",
    "\n",
    "List_secondaries = ['$^{27}$Al', '$^{28}$Al', '$^{29}$Al', \n",
    "                    '$^{37}$Ar', '$^{38}$Ar', '$^{39}$Ar', \n",
    "                   '$^{40}$Ar', '$^{41}$Ar', '$^{11}$B',\n",
    "                    '$^{12}$C', '$^{13}$C', '$^{14}$C', '$^{15}$C',\n",
    "                   '$^{40}$Ca', '$^{41}$Ca', '$^{42}$Ca', '$^{43}$Ca',\n",
    "                    '$^{44}$Ca',  '$^{48}$Ca', '$^{36}$Cl', \n",
    "                   '$^{38}$Cl' ,'$^{20}$F', '$^{39}$K',\n",
    "                    '$^{40}$K', '$^{41}$K',\n",
    "                    '$^{42}$K', '$^{25}$Mg', '$^{26}$Mg', \n",
    "                   '$^{27}$Mg', '$^{14}$N', '$^{15}$N', '$^{16}$N', \n",
    "                    '$^{23}$Na', '$^{24}$Na', '$^{22}$Ne', '$^{23}$Ne', \n",
    "                   '$^{16}$O', '$^{17}$O', '$^{18}$O', '$^{28}$Si',\n",
    "                    '$^{29}$Si', '$^{30}$Si', '$^{31}$Si']\n",
    "\n",
    "N_secondaries_sort_Z = np.array([68, 1, 5421, 46,  1,\n",
    "                                622, 24, 89, 391966, 191,912, 33,\n",
    "                                 2,40,  12205,\n",
    "                                 148,951,\n",
    "                                    83,353,42392,\n",
    "                                  1957,60, 94706,5376,2958, 3, 612,\n",
    "                                 5, 1, 63, 3, 2326, 25, 11332, 284,1257,  7, 1089,\n",
    "                                10,  14,   2,  33,   2])\n",
    "\n",
    "List_secondaries_sort_Z = ['$^{11}$B','$^{12}$C', '$^{13}$C', '$^{14}$C', '$^{15}$C',\n",
    "                           '$^{14}$N', '$^{15}$N', '$^{16}$N',\n",
    "                          '$^{16}$O', '$^{17}$O', '$^{18}$O', '$^{20}$F', '$^{22}$Ne', '$^{23}$Ne', \n",
    "                           '$^{23}$Na', '$^{24}$Na', '$^{25}$Mg', '$^{26}$Mg', \n",
    "                   '$^{27}$Mg','$^{27}$Al', '$^{28}$Al', '$^{29}$Al','$^{28}$Si',\n",
    "                    '$^{29}$Si', '$^{30}$Si', '$^{31}$Si',  '$^{36}$Cl', \n",
    "                   '$^{38}$Cl' ,'$^{37}$Ar', '$^{38}$Ar', '$^{39}$Ar', \n",
    "                   '$^{40}$Ar', '$^{41}$Ar', '$^{39}$K',\n",
    "                    '$^{40}$K', '$^{41}$K',\n",
    "                    '$^{42}$K','$^{40}$Ca', '$^{41}$Ca', '$^{42}$Ca', '$^{43}$Ca',\n",
    "                    '$^{44}$Ca',  '$^{48}$Ca']\n",
    "\n",
    "\n",
    "print(len(List_secondaries), len(List_secondaries_sort_Z))\n",
    "\n"
   ]
  },
  {
   "cell_type": "code",
   "execution_count": 15,
   "id": "d76b6db2",
   "metadata": {},
   "outputs": [],
   "source": [
    "N_particles = np.array([7603,38,146501,\n",
    " 62828,5329, 3])\n",
    "\n",
    "List_particles = ['Alpha', 'Deuteron', 'Gamma', 'Neutron', \n",
    "                 'Proton', 'Triton']"
   ]
  },
  {
   "cell_type": "code",
   "execution_count": 16,
   "id": "06370a34",
   "metadata": {},
   "outputs": [],
   "source": [
    "\"\"\"\n",
    "Complete List\n",
    "\"\"\"\n",
    "\n",
    "List_all_sort = [r'$\\gamma$','n', 'd', 'p','t',r'$\\alpha$', \n",
    "                      '$^{11}$B','$^{12}$C', '$^{13}$C', '$^{14}$C', '$^{15}$C',\n",
    "                           '$^{14}$N', '$^{15}$N', '$^{16}$N',\n",
    "                          '$^{16}$O', '$^{17}$O', '$^{18}$O', '$^{20}$F', '$^{22}$Ne', '$^{23}$Ne', \n",
    "                           '$^{23}$Na', '$^{24}$Na', '$^{25}$Mg', '$^{26}$Mg', \n",
    "                   '$^{27}$Mg','$^{27}$Al', '$^{28}$Al', '$^{29}$Al','$^{28}$Si',\n",
    "                    '$^{29}$Si', '$^{30}$Si', '$^{31}$Si',  '$^{36}$Cl', \n",
    "                   '$^{38}$Cl' ,'$^{37}$Ar', '$^{38}$Ar', '$^{39}$Ar', \n",
    "                   '$^{40}$Ar', '$^{41}$Ar', '$^{39}$K',\n",
    "                    '$^{40}$K', '$^{41}$K',\n",
    "                    '$^{42}$K','$^{40}$Ca', '$^{41}$Ca', '$^{42}$Ca', '$^{43}$Ca',\n",
    "                    '$^{44}$Ca',  '$^{48}$Ca']\n",
    "\n",
    "N_particles_sort = np.array([146501, 62828, 38, 5329, 3, 7603])\n"
   ]
  },
  {
   "cell_type": "code",
   "execution_count": 17,
   "id": "3ea99bde",
   "metadata": {},
   "outputs": [],
   "source": [
    "List_all_sort = [r'$\\gamma$','n', 'd', 'p','t',r'$\\alpha$', \n",
    "                      '$^{11}$B','$^{12}$C', '$^{13}$C', '$^{14}$C', '$^{15}$C',\n",
    "                           '$^{14}$N', '$^{15}$N', '$^{16}$N',\n",
    "                          '$^{16}$O', '$^{17}$O', '$^{18}$O', '$^{20}$F', '$^{22}$Ne', '$^{23}$Ne', \n",
    "                           '$^{23}$Na', '$^{24}$Na', '$^{25}$Mg', '$^{26}$Mg', \n",
    "                   '$^{27}$Mg','$^{27}$Al', '$^{28}$Al', '$^{29}$Al','$^{28}$Si',\n",
    "                    '$^{29}$Si', '$^{30}$Si', '$^{31}$Si',  '$^{36}$Cl', \n",
    "                   '$^{38}$Cl' ,'$^{37}$Ar', '$^{38}$Ar', '$^{39}$Ar', \n",
    "                   '$^{40}$Ar', '$^{41}$Ar', '$^{39}$K',\n",
    "                    '$^{40}$K', '$^{41}$K',\n",
    "                    '$^{42}$K','$^{40}$Ca', '$^{41}$Ca', '$^{42}$Ca', '$^{43}$Ca',\n",
    "                    '$^{44}$Ca',  '$^{48}$Ca']\n",
    "N_all = np.concatenate([N_particles_sort, N_secondaries_sort_Z])"
   ]
  },
  {
   "cell_type": "code",
   "execution_count": 18,
   "id": "0184d2da",
   "metadata": {},
   "outputs": [
    {
     "data": {
      "text/plain": [
       "49"
      ]
     },
     "execution_count": 18,
     "metadata": {},
     "output_type": "execute_result"
    }
   ],
   "source": [
    "len(List_all_sort)"
   ]
  },
  {
   "cell_type": "code",
   "execution_count": 19,
   "id": "75bec36a",
   "metadata": {},
   "outputs": [
    {
     "data": {
      "text/plain": [
       "(49,)"
      ]
     },
     "execution_count": 19,
     "metadata": {},
     "output_type": "execute_result"
    }
   ],
   "source": [
    "N_all.shape"
   ]
  },
  {
   "cell_type": "code",
   "execution_count": 20,
   "id": "e51c3ae2",
   "metadata": {},
   "outputs": [
    {
     "data": {
      "image/png": "[encoded data removed]",
      "text/plain": [
       "<Figure size 1152x216 with 1 Axes>"
      ]
     },
     "metadata": {
      "needs_background": "light"
     },
     "output_type": "display_data"
    }
   ],
   "source": [
    "fig, ax = plt.subplots(1,1, figsize = (16, 3))\n",
    "\n",
    "ax.bar(np.arange(N_all.shape[0])*1.25,N_all, \n",
    "           edgecolor = 'k', alpha = 0.67, \n",
    "       color = 'RoyalBlue');\n",
    "\n",
    "ax.bar(np.arange(N_all.shape[0])*1.25,N_all, \n",
    "           edgecolor = 'k', alpha = 1, lw = 1.1,\n",
    "       facecolor = 'None'); \n",
    "\n",
    "ax.set_xticks(np.linspace(0,N_all.shape[0] - 1, N_all.shape[0])*1.25)\n",
    "ax.set_xticklabels(List_all_sort, rotation = 45, \n",
    "                   fontsize = 12)\n",
    "ax.set_ylabel('log(Number of Nuclei)')\n",
    "ax.set_yscale('symlog')\n",
    "ax.set_xlim(-0.8, (N_all.shape[0]*1.25) - 0.4)\n",
    "plt.tight_layout()\n"
   ]
  },
  {
   "cell_type": "code",
   "execution_count": null,
   "id": "67151285",
   "metadata": {},
   "outputs": [],
   "source": []
  },
  {
   "cell_type": "code",
   "execution_count": null,
   "id": "643e79b5",
   "metadata": {},
   "outputs": [],
   "source": []
  }
 ],
 "metadata": {
  "kernelspec": {
   "display_name": "Python 3",
   "language": "python",
   "name": "python3"
  },
  "language_info": {
   "codemirror_mode": {
    "name": "ipython",
    "version": 3
   },
   "file_extension": ".py",
   "mimetype": "text/x-python",
   "name": "python",
   "nbconvert_exporter": "python",
   "pygments_lexer": "ipython3",
   "version": "3.8.8"
  }
 },
 "nbformat": 4,
 "nbformat_minor": 5
}
