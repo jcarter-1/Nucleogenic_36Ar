{
 "cells": [
  {
   "cell_type": "markdown",
   "id": "f2a6409a",
   "metadata": {},
   "source": [
    "# Chlorine Corrections\n",
    "\n",
    "* Pull data from multiple GEANT4 simulations\n",
    "* Determine interference corrections and create figures in Manuscript\n",
    "* Figures from this code are: \n",
    "    * Figure 6\n",
    "    * Figure S7\n",
    "    * Figure S8\n",
    "    * Figure S10"
   ]
  },
  {
   "cell_type": "code",
   "execution_count": 68,
   "id": "8d158712",
   "metadata": {},
   "outputs": [],
   "source": [
    "import numpy as np \n",
    "import matplotlib.pyplot as plt \n",
    "import matplotlib as mpl\n",
    "\n",
    "\"\"\"\n",
    "Plots\n",
    "\"\"\"\n",
    "mpl.rcParams['font.size'] = 14"
   ]
  },
  {
   "cell_type": "code",
   "execution_count": 69,
   "id": "3dd9b919",
   "metadata": {},
   "outputs": [
    {
     "data": {
      "text/plain": [
       "'\\nRead in csv\\n'"
      ]
     },
     "execution_count": 69,
     "metadata": {},
     "output_type": "execute_result"
    }
   ],
   "source": [
    "import glob\n",
    "import pandas as pd\n",
    "\"\"\"\n",
    "Read in csv\n",
    "\"\"\""
   ]
  },
  {
   "cell_type": "code",
   "execution_count": 21,
   "id": "babd9232",
   "metadata": {},
   "outputs": [],
   "source": [
    "df = pd.DataFrame(pd.read_csv(file_list[0], skiprows = 11))\n",
    "df = df.set_axis([\"Neutron_energy\",\n",
    "                    \"tZ\", \"tA\", \n",
    "                        \"Z\", \"A\", \n",
    "                    \"Nuclide_energy\", \n",
    "                     \"time\"], axis = 1, inplace = False)\n",
    "for i in range(0, 14):\n",
    "    data = pd.read_csv(file_list[i], skiprows = 11)\n",
    "    df1 = pd.DataFrame(data)\n",
    "    df1 = df1.set_axis([\"Neutron_energy\",\n",
    "                    \"tZ\", \"tA\", \n",
    "                        \"Z\", \"A\", \n",
    "                    \"Nuclide_energy\", \n",
    "                     \"time\"], axis = 1, inplace = False)\n",
    "    df = pd.concat([df, df1])\n",
    "\n"
   ]
  },
  {
   "cell_type": "code",
   "execution_count": 22,
   "id": "91ea423e",
   "metadata": {},
   "outputs": [],
   "source": [
    "\"\"\"\n",
    "Chlorine (n,g) corrections\n",
    "\"\"\"\n",
    "\n",
    "df_cl = df[df['tZ'] == 17]\n",
    "\n",
    "df_cl36 = df_cl[df_cl['A'] == 36]\n",
    "\n",
    "df_cl38 = df_cl[df_cl['A'] == 38]"
   ]
  },
  {
   "cell_type": "code",
   "execution_count": 23,
   "id": "c9924b0c",
   "metadata": {},
   "outputs": [
    {
     "name": "stdout",
     "output_type": "stream",
     "text": [
      "241.96623072418504\n"
     ]
    }
   ],
   "source": [
    "\"\"\"\n",
    "Just Chlorine \n",
    "\"\"\"\n",
    "print(df_cl36.shape[0]/df_cl38.shape[0])"
   ]
  },
  {
   "cell_type": "code",
   "execution_count": 24,
   "id": "7d14caff",
   "metadata": {},
   "outputs": [],
   "source": [
    "df_pcl36 = df[df['A'] == 36]\n",
    "df_pcl38 = df[df['A'] == 38]\n",
    "\n",
    "df_pcl36 = df_pcl36[df_pcl36['Z'] == 17]\n",
    "df_pcl38 = df_pcl38[df_pcl38['Z'] == 17]"
   ]
  },
  {
   "cell_type": "code",
   "execution_count": 25,
   "id": "1ec674c1",
   "metadata": {},
   "outputs": [
    {
     "data": {
      "text/plain": [
       "244.93990338164252"
      ]
     },
     "execution_count": 25,
     "metadata": {},
     "output_type": "execute_result"
    }
   ],
   "source": [
    "df_pcl36.shape[0]/df_pcl38.shape[0]"
   ]
  },
  {
   "cell_type": "code",
   "execution_count": 26,
   "id": "2b398b80",
   "metadata": {},
   "outputs": [],
   "source": [
    "def ratios_(x, y): \n",
    "    x_err = np.sqrt(x)\n",
    "    y_err = np.sqrt(y)\n",
    "    \n",
    "    ratio = x/y\n",
    "    \n",
    "    zz = np.sqrt((x_err/x)**2 + (y_err/y)**2)\n",
    "    \n",
    "    ratio_err = ratio * zz\n",
    "    \n",
    "    return ratio, ratio_err"
   ]
  },
  {
   "cell_type": "code",
   "execution_count": 27,
   "id": "2724e7f0",
   "metadata": {},
   "outputs": [],
   "source": [
    "Cl_pr, Cl_pr_err = ratios_(df_pcl36.shape[0], df_pcl38.shape[0])"
   ]
  },
  {
   "cell_type": "code",
   "execution_count": 28,
   "id": "38e216a8",
   "metadata": {},
   "outputs": [
    {
     "name": "stdout",
     "output_type": "stream",
     "text": [
      "244.93990338164252 3.4118434297004807\n"
     ]
    }
   ],
   "source": [
    "print(Cl_pr, Cl_pr_err)"
   ]
  },
  {
   "cell_type": "code",
   "execution_count": 29,
   "id": "35b8e8b2",
   "metadata": {},
   "outputs": [],
   "source": [
    "x = df_cl36.shape[0]\n",
    "y = df_cl38.shape[0]\n",
    "R_Cl, R_Cl_err = ratios_(x, y)"
   ]
  },
  {
   "cell_type": "code",
   "execution_count": 30,
   "id": "895f8e37",
   "metadata": {},
   "outputs": [],
   "source": [
    "comb, comb_err = ratios_(df_pcl36.shape[0], df_pcl38.shape[0])"
   ]
  },
  {
   "cell_type": "code",
   "execution_count": 31,
   "id": "219c041d",
   "metadata": {},
   "outputs": [
    {
     "name": "stdout",
     "output_type": "stream",
     "text": [
      "P36Cl/38Cl 241.96623072418504 +/- 3.3875690770412747\n"
     ]
    }
   ],
   "source": [
    "print('P36Cl/38Cl', R_Cl, '+/-', R_Cl_err)"
   ]
  },
  {
   "cell_type": "code",
   "execution_count": 32,
   "id": "f16f2f17",
   "metadata": {},
   "outputs": [],
   "source": [
    "\"\"\"\n",
    "K \n",
    "\"\"\"\n",
    "df_k = df[df['tZ'] == 19]\n",
    "df_ar39_k = df_k[df_k['A'] == 39]\n",
    "df_ar39_k = df_ar39_k[df_ar39_k['Z'] == 18]"
   ]
  },
  {
   "cell_type": "code",
   "execution_count": 33,
   "id": "38415ec5",
   "metadata": {},
   "outputs": [],
   "source": [
    "y2 = df_ar39_k.shape[0]"
   ]
  },
  {
   "cell_type": "code",
   "execution_count": 34,
   "id": "8094b625",
   "metadata": {},
   "outputs": [],
   "source": [
    "\"\"\"\n",
    "(36Ar/39Ar)K\n",
    "\"\"\"\n",
    "df_ar36 = df_k[df_k['A'] == 36]\n",
    "df_ar36 = df_ar36[df_ar36['Z'] == 17]\n",
    "\n",
    "df_ar38 = df_k[df_k['A'] == 38]\n",
    "df_ar38 = df_ar38[df_ar38['Z'] == 17]\n",
    "\n",
    "df_ar40 = df_k[df_k['A'] == 40]\n",
    "df_ar40 = df_ar40[df_ar40['Z'] == 17]\n",
    "\n",
    "x4 = df_ar36.shape[0]\n",
    "x5 = df_ar38.shape[0]\n",
    "\n",
    "r_ar36_39, r_ar36_39_err = ratios_(x4, y2)"
   ]
  },
  {
   "cell_type": "code",
   "execution_count": 35,
   "id": "d73e86c0",
   "metadata": {},
   "outputs": [
    {
     "name": "stdout",
     "output_type": "stream",
     "text": [
      "0.38656937131169067 0.0027217250201911135\n"
     ]
    }
   ],
   "source": [
    "print(r_ar36_39, r_ar36_39_err)"
   ]
  },
  {
   "cell_type": "code",
   "execution_count": 36,
   "id": "a0fbd994",
   "metadata": {},
   "outputs": [],
   "source": [
    "p_36_38_ar, p_36_38_ar_err = ratios_(x4,x5)"
   ]
  },
  {
   "cell_type": "code",
   "execution_count": 37,
   "id": "1daf6fff",
   "metadata": {},
   "outputs": [
    {
     "name": "stdout",
     "output_type": "stream",
     "text": [
      "537.9038461538462 74.66314758161053\n"
     ]
    }
   ],
   "source": [
    "print(p_36_38_ar, p_36_38_ar_err)"
   ]
  },
  {
   "cell_type": "code",
   "execution_count": 38,
   "id": "4cbf81ed",
   "metadata": {},
   "outputs": [],
   "source": [
    "\"\"\"\n",
    "Chlorine\n",
    "\"\"\"\n",
    "df_cl36_k  = df_k[df_k['A'] == 36]\n",
    "df_cl36_k = df_cl36_k[df_cl36_k ['Z'] == 17]\n",
    "\n",
    "\"\"\"\n",
    "Chlorine\n",
    "\"\"\"\n",
    "df_cl38_k  = df_k[df_k['A'] == 38]\n",
    "df_cl38_k = df_cl38_k[df_cl38_k ['Z'] == 17]"
   ]
  },
  {
   "cell_type": "code",
   "execution_count": 39,
   "id": "7f492787",
   "metadata": {},
   "outputs": [],
   "source": [
    "cl36_kn = df_cl36_k.shape[0]\n",
    "cl38_kn = df_cl38_k.shape[0]"
   ]
  },
  {
   "cell_type": "code",
   "execution_count": 40,
   "id": "1b104f3a",
   "metadata": {},
   "outputs": [],
   "source": [
    "p_36_38_k, p_36_38_k_err = ratios_(cl36_kn,cl38_kn)"
   ]
  },
  {
   "cell_type": "code",
   "execution_count": 41,
   "id": "bfa22441",
   "metadata": {},
   "outputs": [
    {
     "name": "stdout",
     "output_type": "stream",
     "text": [
      "537.9038461538462 74.66314758161053\n"
     ]
    }
   ],
   "source": [
    "print(p_36_38_k, p_36_38_k_err)"
   ]
  },
  {
   "cell_type": "code",
   "execution_count": 42,
   "id": "8ab94cad",
   "metadata": {},
   "outputs": [],
   "source": [
    "\"\"\"\n",
    "P(36Ar)/P(38Ar)\n",
    "\"\"\"\n",
    "p36p38_renne = 262.8\n",
    "p36p38_renne_err = 1.7\n",
    "\n",
    "p36p38_roddick = 327\n",
    "\n",
    "p36p38_foland = 320\n",
    "\n",
    "p36p38_Cl_model = R_Cl\n",
    "p36p38_Cl_model_err = R_Cl_err \n",
    "\n",
    "\n",
    "p36p38_K = p_36_38_k\n",
    "p36p38_K_err = p_36_38_k_err"
   ]
  },
  {
   "cell_type": "code",
   "execution_count": 43,
   "id": "14967ba4",
   "metadata": {},
   "outputs": [],
   "source": [
    "p36p38_array = np.array([p36p38_renne, \n",
    "                        p36p38_roddick, \n",
    "                        p36p38_foland,\n",
    "                        p36p38_Cl_model, \n",
    "                        p36p38_K])\n",
    "\n",
    "p36p38_array_err = np.array([p36p38_renne_err, \n",
    "                        0, \n",
    "                        0,\n",
    "                        p36p38_Cl_model_err, \n",
    "                            p36p38_K_err])\n",
    "\n",
    "p38p36_labels = ['Renne', 'Roddick', \n",
    "         'Foland', 'Cl - derived', \n",
    "                'K - derived']"
   ]
  },
  {
   "cell_type": "code",
   "execution_count": null,
   "id": "d728a889",
   "metadata": {},
   "outputs": [],
   "source": []
  },
  {
   "cell_type": "code",
   "execution_count": 44,
   "id": "caa70495",
   "metadata": {},
   "outputs": [
    {
     "data": {
      "image/png": "[encoded data removed]",
      "text/plain": [
       "<Figure size 504x144 with 1 Axes>"
      ]
     },
     "metadata": {
      "needs_background": "light"
     },
     "output_type": "display_data"
    }
   ],
   "source": [
    "fig,(ax1)=plt.subplots(1,1, figsize = (7,2))\n",
    "for i in range(len(p36p38_array)):\n",
    "    ax1.errorbar(i*0.2, y = p36p38_array[i], \n",
    "                yerr = p36p38_array_err[i],\n",
    "                 fmt = 's', barsabove = True, \n",
    "                capsize = 3.3, \n",
    "                markeredgecolor = 'k',\n",
    "                 markersize = 8,\n",
    "                label = p38p36_labels[i])\n",
    "    plt.legend()\n",
    "    ax1.set_xticks([])\n",
    "    \n",
    "    # get handles\n",
    "    handles, labels = ax1.get_legend_handles_labels()\n",
    "    # remove the errorbars\n",
    "    handles = [h[0] for h in handles]\n",
    "    \n",
    "    ax1.legend(handles, labels, \n",
    "               numpoints=1, ncol = 1, fontsize= 9)\n",
    "    ax1.set_ylabel('P($^{36}$Cl/$^{38}$Cl)')\n",
    "    ax1.set_xlim(-0.05, 1.25)\n",
    "    plt.tight_layout()\n",
    "#plt.ylim(0, 400)\n",
    "plt.locator_params(axis = 'y', nbins = 7)\n",
    "#plt.yscale('log')"
   ]
  },
  {
   "cell_type": "code",
   "execution_count": 45,
   "id": "5353398e",
   "metadata": {},
   "outputs": [],
   "source": [
    "delta_t_renne = np.array([0.2317, 0.2806, \n",
    "                         0.4153, 0.4180, 0.4202, 0.4203, \n",
    "                         0.4208, 0.6258, \n",
    "                         0.6259, 0.7767,\n",
    "                         0.7770, 1.0247, 1.0247,\n",
    "                         1.0247, 2.5302, 2.5306, \n",
    "                         2.5325])\n",
    "\n",
    "\n",
    "delta_t_renne_2 = np.array([0.000001, 0.2317, 0.2806, \n",
    "                         0.4153, 0.4180, 0.4202, 0.4203, \n",
    "                         0.4208, 0.6258, \n",
    "                         0.6259, 0.7767,\n",
    "                         0.7770, 1.0247, 1.0247,\n",
    "                         1.0247, 2.5302, 2.5306, \n",
    "                         2.5325])\n",
    "\n"
   ]
  },
  {
   "cell_type": "code",
   "execution_count": 46,
   "id": "50bd9ffb",
   "metadata": {},
   "outputs": [],
   "source": [
    "def ar36_growth(n0, t):\n",
    "    lamb = np.log(2)/(3.07e5)\n",
    "    N = n0* 1/(1 -(np.exp(-lamb*t)))\n",
    "    return N"
   ]
  },
  {
   "cell_type": "code",
   "execution_count": 47,
   "id": "a4ee9dc0",
   "metadata": {},
   "outputs": [],
   "source": [
    "\"\"\"\n",
    "Initial 36Ar/38Ar\n",
    "\"\"\"\n",
    "lamb = np.log(2)/(3.07e5)\n",
    "in_3638Ar_cl = (p36p38_Cl_model)* (1 - np.exp(-lamb*delta_t_renne_2))\n",
    "\n",
    "in_3638Ar_K = (p36p38_K)* (1 - np.exp(-lamb*delta_t_renne_2))\n",
    "\n",
    "roddick_3638Ar = 327* (1 - np.exp(-lamb*delta_t_renne_2))\n",
    "\n",
    "foland_3638Ar = 320* (1 - np.exp(-lamb*delta_t_renne_2))\n"
   ]
  },
  {
   "cell_type": "code",
   "execution_count": 48,
   "id": "6026150a",
   "metadata": {},
   "outputs": [],
   "source": [
    "ar3638Ar_renne = np.array([1.4182e-4, \n",
    "                           1.5999e-4,\n",
    "                           2.4904e-4, \n",
    "                           2.39996e-4, \n",
    "                          2.549e-4, \n",
    "                          2.4713e-4, \n",
    "                          3.7356e-4,\n",
    "                           3.7277e-4,\n",
    "                           4.6169e-4, \n",
    "                           4.5418e-4,\n",
    "                           6.2264e-4,\n",
    "                           6.2012e-4,\n",
    "                           6.0889e-4,\n",
    "                           5.8564e-4,\n",
    "                           1.5540e-3,\n",
    "                           1.5616e-3,\n",
    "                           1.5130e-3])"
   ]
  },
  {
   "cell_type": "code",
   "execution_count": 49,
   "id": "4bc97af1",
   "metadata": {},
   "outputs": [
    {
     "data": {
      "text/plain": [
       "(0.0006008423486991741, 2.115301680128791e-05)"
      ]
     },
     "execution_count": 49,
     "metadata": {},
     "output_type": "execute_result"
    }
   ],
   "source": [
    "m,c = np.polyfit(delta_t_renne , ar3638Ar_renne, 1)\n",
    "m,c"
   ]
  },
  {
   "cell_type": "code",
   "execution_count": 50,
   "id": "beed96cb",
   "metadata": {},
   "outputs": [],
   "source": [
    "in_3638Ar_this_study_K = in_3638Ar_K\n",
    "in_3638Ar_this_study_cl = in_3638Ar_cl"
   ]
  },
  {
   "cell_type": "code",
   "execution_count": 51,
   "id": "276212d4",
   "metadata": {},
   "outputs": [
    {
     "data": {
      "image/png": "[encoded data removed]",
      "text/plain": [
       "<Figure size 316.8x288 with 1 Axes>"
      ]
     },
     "metadata": {
      "needs_background": "light"
     },
     "output_type": "display_data"
    }
   ],
   "source": [
    "plt.figure(figsize= (4.4,4))\n",
    "plt.plot(delta_t_renne , ar3638Ar_renne, 'o', \n",
    "        markeredgecolor = 'k')\n",
    "plt.plot(delta_t_renne_2, m*delta_t_renne_2+ c, color = 'b', \n",
    "        label = 'Renne et al., (2008)')\n",
    "\n",
    "plt.plot(delta_t_renne_2, roddick_3638Ar, '-', \n",
    "        label = 'Rodick (1983)', \n",
    "        color = 'slategrey')\n",
    "\n",
    "plt.plot(delta_t_renne_2 , foland_3638Ar, '-', \n",
    "        label = 'Foland et al., (1993)', \n",
    "        color = 'seagreen')\n",
    "\n",
    "plt.plot(delta_t_renne_2 , in_3638Ar_this_study_cl, '-', \n",
    "        label = 'Cl-model', \n",
    "        color = 'r')\n",
    "\n",
    "plt.plot(delta_t_renne_2 , in_3638Ar_this_study_K, '-', \n",
    "        label = 'K-model', \n",
    "        color = 'm')\n",
    "\n",
    "plt.legend(fontsize = 11)\n",
    "plt.ylabel(r'$^{36}$Ar$_{\\rm Cl}$/$^{38}$Ar$_{\\rmCl}$')\n",
    "plt.xlabel('$\\Delta$t$_{irr}$ (yrs)')\n",
    "plt.xlim(0.1, 2)\n",
    "plt.tight_layout()\n",
    "plt.ticklabel_format(style = 'sci', axis = 'y', \n",
    "                      scilimits=(0,0))\n"
   ]
  },
  {
   "cell_type": "code",
   "execution_count": 52,
   "id": "1c06b21d",
   "metadata": {},
   "outputs": [
    {
     "data": {
      "image/png": "[encoded data removed]",
      "text/plain": [
       "<Figure size 504x316.8 with 2 Axes>"
      ]
     },
     "metadata": {
      "needs_background": "light"
     },
     "output_type": "display_data"
    }
   ],
   "source": [
    "fig,ax = plt.subplots(2,1, figsize = (7, 4.4))\n",
    "for i in range(len(p36p38_array)):\n",
    "    ax[0].errorbar(i*0.2, y = p36p38_array[i], \n",
    "                yerr = p36p38_array_err[i],\n",
    "                 fmt = 's', barsabove = True, \n",
    "                capsize = 3.3, \n",
    "                markeredgecolor = 'k',\n",
    "                 markersize = 8,\n",
    "                label = p38p36_labels[i])\n",
    "    ax[0].set_xticks([])\n",
    "    \n",
    "    # get handles\n",
    "    handles, labels = ax[0].get_legend_handles_labels()\n",
    "    # remove the errorbars\n",
    "    handles = [h[0] for h in handles]\n",
    "    ax[0].legend(handles, labels, \n",
    "               numpoints=1, ncol = 4, fontsize= 9)\n",
    "    ax[0].set_ylabel('P($^{36}$Cl/$^{38}$Cl)')\n",
    "    ax[0].set_xlim(-0.05, 1.2)\n",
    "ax[0].locator_params(axis = 'y', nbins = 7)\n",
    "\n",
    "ax[1].plot(delta_t_renne , ar3638Ar_renne, 'o', \n",
    "        markeredgecolor = 'k')\n",
    "ax[1].plot(delta_t_renne_2, m*delta_t_renne_2+ c, color = 'b', \n",
    "        label = 'Renne')\n",
    "\n",
    "ax[1].plot(delta_t_renne_2, roddick_3638Ar, '-', \n",
    "        label = 'Rodick', \n",
    "        color = 'darkorange')\n",
    "\n",
    "ax[1].plot(delta_t_renne_2 , foland_3638Ar,\n",
    "        label = 'Foland', \n",
    "        color = 'green', \n",
    "          ls = '--')\n",
    "\n",
    "ax[1].plot(delta_t_renne_2 , in_3638Ar_this_study_cl, '-', \n",
    "        label = 'Cl-derived', \n",
    "        color = 'r', \n",
    "          lw = 2)\n",
    "\n",
    "ax[1].plot(delta_t_renne_2 , in_3638Ar_this_study_K, ':', \n",
    "        label = 'K-derived', \n",
    "        color = 'purple', \n",
    "          lw = 2)\n",
    "\n",
    "ax[1].legend(fontsize = 9, ncol = 3)\n",
    "ax[1].set_ylabel(r'($^{36}$Ar/$^{38}$Ar)$_{\\rmCl}$')\n",
    "ax[1].set_xlabel('$\\Delta$t$_{irr}$ (yrs)')\n",
    "ax[1].set_xlim(0.1, 2)\n",
    "ax[1].ticklabel_format(style = 'sci', axis = 'y', \n",
    "                      scilimits=(0,0))\n",
    "\n",
    "\n",
    "ax[1].locator_params(axis = 'y', nbins = 6)\n",
    "ax[1].set_ylim(-1e-4, 2e-3)\n",
    "ax[0].text(0.856, 520, 'A', fontsize = 15)\n",
    "ax[1].text(1.92, 1.58e-3, 'B', fontsize = 15)\n",
    "\n",
    "ax[0].set_ylim(200, 600)\n",
    "ax[0].set_xlim(-0.1, 0.9)\n",
    "\n",
    "plt.tight_layout()\n",
    "#ax[1].set_yscale('symlog')\n",
    "#plt.savefig('/Users/jackcarter/Desktop/Neutron_Irradiation_Paper/Plots_Latest_v2/Figure9_Cl_corection_comparison.pdf')"
   ]
  },
  {
   "cell_type": "code",
   "execution_count": 53,
   "id": "011b850f",
   "metadata": {},
   "outputs": [],
   "source": [
    "age1 = 1\n",
    "age2 = age1*0.998\n",
    "\n",
    "ages = np.array([age1, age2])\n",
    "prod = np.array([263, 320])"
   ]
  },
  {
   "cell_type": "code",
   "execution_count": 54,
   "id": "905c14f4",
   "metadata": {},
   "outputs": [],
   "source": [
    "m,c = np.polyfit(prod, ages, 1)"
   ]
  },
  {
   "cell_type": "code",
   "execution_count": 55,
   "id": "b90f6633",
   "metadata": {},
   "outputs": [],
   "source": [
    "xx = np.linspace(0, 700, 100)"
   ]
  },
  {
   "cell_type": "code",
   "execution_count": 56,
   "id": "1356ba41",
   "metadata": {},
   "outputs": [
    {
     "data": {
      "image/png": "[encoded data removed]",
      "text/plain": [
       "<Figure size 316.8x288 with 1 Axes>"
      ]
     },
     "metadata": {
      "needs_background": "light"
     },
     "output_type": "display_data"
    }
   ],
   "source": [
    "age1 = 1\n",
    "age2 = age1*0.998\n",
    "\n",
    "ages = np.array([age1, age2])\n",
    "prod = np.array([263, 320])\n",
    "fig = plt.figure(figsize = (4.4,4))\n",
    "plt.plot(xx, m*xx + c, \n",
    "        label = 'Linear model')\n",
    "plt.plot(prod[0], ages[0], 'o', \n",
    "        label = 'Renne', \n",
    "        markersize = 9)\n",
    "plt.plot(prod[1], ages[1], 'o', \n",
    "        label = 'Roddick', \n",
    "        markersize = 9)\n",
    "\n",
    "plt.plot(p_36_38_k, m*p_36_38_k + c, 's', \n",
    "        label = 'K-derived', \n",
    "        markersize = 9, \n",
    "        color = 'm')\n",
    "\n",
    "plt.plot(238, m*238 + c, 's', \n",
    "        label = 'Cl-derived', \n",
    "        markersize = 9, \n",
    "        color = 'r')\n",
    "plt.xlabel('P($^{36}$Cl/$^{38}$Cl)')\n",
    "plt.ylabel('Relative Change in Age')\n",
    "plt.axhline(1, ls = '--', label = 'No change', \n",
    "           color = 'grey')\n",
    "plt.legend(fontsize = 8, loc = 1, ncol = 2)\n",
    "#plt.xlim(160, 500)\n",
    "#plt.ylim(0.99, 1.006)\n",
    "plt.tight_layout()\n",
    "plt.savefig('/Users/jackcarter/Desktop/Neutron_Irradiation_Paper/Plots_Latest_v2/Figure_S2_Chlorine correciton.pdf')"
   ]
  },
  {
   "cell_type": "code",
   "execution_count": 57,
   "id": "b173b377",
   "metadata": {},
   "outputs": [
    {
     "data": {
      "image/png": "[encoded data removed]",
      "text/plain": [
       "<Figure size 432x144 with 1 Axes>"
      ]
     },
     "metadata": {
      "needs_background": "light"
     },
     "output_type": "display_data"
    }
   ],
   "source": [
    "fig, ax = plt.subplots(1, 1, figsize= (6, 2))\n",
    "plt.errorbar(1, y = p36p38_Cl_model, \n",
    "            yerr = p36p38_Cl_model_err, fmt = 's', \n",
    "            label = 'Cl-derived')\n",
    "\n",
    "plt.errorbar(2, y = p_36_38_k, \n",
    "            yerr = p_36_38_k_err, fmt = '^', \n",
    "            label = 'K-derived'); \n",
    "\n",
    "plt.errorbar(3, y = comb, \n",
    "            yerr = comb_err , fmt = 'P', \n",
    "            label = 'combined'); \n",
    "\n",
    "\n",
    "plt.ylabel('P($^{36}$Cl/$^{38}$Cl)')\n",
    "plt.xticks([])\n",
    "plt.locator_params(axis = 'y', nbins = 6)\n",
    "#plt.ylim(200, 600)\n",
    "plt.axhspan(252.7 - 1.8, \n",
    "           252.7 + 1.8, \n",
    "           alpha = 0.3, \n",
    "           label = 'Renne et al. (2008)')\n",
    "plt.legend(fontsize = 11)\n",
    "plt.savefig('/Users/jackcarter/Desktop/Neutron_Irradiation_Paper/Plots_Latest_v2/Figure_S_Production_comparison.pdf')#plt.yscale('log')"
   ]
  },
  {
   "cell_type": "code",
   "execution_count": null,
   "id": "8e38300a",
   "metadata": {},
   "outputs": [],
   "source": []
  },
  {
   "cell_type": "code",
   "execution_count": 58,
   "id": "85fa87c7",
   "metadata": {},
   "outputs": [
    {
     "data": {
      "text/plain": [
       "27971"
      ]
     },
     "execution_count": 58,
     "metadata": {},
     "output_type": "execute_result"
    }
   ],
   "source": [
    "df_cl36_k.shape[0]"
   ]
  },
  {
   "cell_type": "code",
   "execution_count": 59,
   "id": "0f95e50d",
   "metadata": {},
   "outputs": [
    {
     "data": {
      "text/plain": [
       "45.317078402631296"
      ]
     },
     "execution_count": 59,
     "metadata": {},
     "output_type": "execute_result"
    }
   ],
   "source": [
    "df_pcl36.shape[0]/df_cl36_k.shape[0]\n"
   ]
  },
  {
   "cell_type": "code",
   "execution_count": 60,
   "id": "5bbea2d7",
   "metadata": {},
   "outputs": [
    {
     "data": {
      "image/png": "[encoded data removed]",
      "text/plain": [
       "<Figure size 576x252 with 2 Axes>"
      ]
     },
     "metadata": {
      "needs_background": "light"
     },
     "output_type": "display_data"
    }
   ],
   "source": [
    "fig, ax = plt.subplots(1, 2, figsize = (8,3.5))\n",
    "\n",
    "ax[0].bar(1, df_cl36_k.shape[0], \n",
    "          yerr = np.sqrt(df_cl36_k.shape[0]), \n",
    "         capsize = 6, \n",
    "         edgecolor = 'k', \n",
    "         color = 'skyblue', \n",
    "         label = r'$^{39}$K(n,$\\alpha$)$^{36}$Cl')\n",
    "ax[0].bar(2, df_pcl36.shape[0], \n",
    "          yerr = np.sqrt(df_pcl36.shape[0]), \n",
    "         capsize = 6, \n",
    "         edgecolor = 'k', \n",
    "         color = 'slategrey', \n",
    "         label = r'$^{35}$Cl(n,$\\gamma$)$^{36}$Cl')\n",
    "\n",
    "\n",
    "ax[0].set_yscale('log')\n",
    "ax[1].set_yscale('log')\n",
    "\n",
    "ax[0].set_ylabel('Number of Atoms')\n",
    "\n",
    "\n",
    "ax[1].bar(1, df_cl38_k.shape[0], \n",
    "          yerr = np.sqrt(df_cl38_k.shape[0]), \n",
    "         capsize = 6, \n",
    "         edgecolor = 'k', \n",
    "         color = 'skyblue', \n",
    "         label = r'$^{41}$K(n,$\\alpha$)$^{38}$Cl')\n",
    "ax[1].bar(2, df_pcl38.shape[0], \n",
    "          yerr = np.sqrt(df_pcl38.shape[0]), \n",
    "         capsize = 6, \n",
    "         edgecolor = 'k', \n",
    "         color = 'slategrey', \n",
    "         label = r'$^{37}$Cl(n,$\\gamma$)$^{38}$Cl')\n",
    "\n",
    "ax[0].legend()\n",
    "ax[1].legend()\n",
    "ax[0].set_xticks([]);\n",
    "ax[1].set_xticks([]);\n",
    "\n",
    "ax[0].text(0.6, 0.65e5, 'A', fontsize = 19)\n",
    "ax[1].text(0.6, 120, 'B', fontsize = 19)\n",
    "\n",
    "plt.tight_layout()\n"
   ]
  },
  {
   "cell_type": "code",
   "execution_count": 61,
   "id": "ed3ba521",
   "metadata": {},
   "outputs": [],
   "source": [
    "\"\"\"\n",
    "Ar - K Interference\n",
    "\"\"\"\n",
    "df_ar38_k = df_k[df_k['A'] == 38]\n",
    "df_ar38_k = df_ar38_k[df_ar38_k['Z'] == 18]\n",
    "\n",
    "\n",
    "df_ar37_k = df_k[df_k['A'] == 37]\n",
    "df_ar37_k = df_ar37_k[df_ar37_k['Z'] == 18]\n",
    "\n",
    "\n",
    "df_ar40_k = df_k[df_k['A'] == 40]\n",
    "df_ar40_k = df_ar40_k[df_ar40_k['Z'] == 18]\n",
    "\n",
    "\n",
    "df_ar39_k = df_k[df_k['A'] == 39]\n",
    "df_ar39_k = df_ar39_k[df_ar39_k['Z'] == 18]"
   ]
  },
  {
   "cell_type": "code",
   "execution_count": 62,
   "id": "74bb677e",
   "metadata": {},
   "outputs": [],
   "source": [
    "ar40_39_k,ar40_39_k_err = ratios_(df_ar40_k.shape[0], \n",
    "                                  df_ar39_k.shape[0]) "
   ]
  },
  {
   "cell_type": "code",
   "execution_count": 63,
   "id": "a86f2f7f",
   "metadata": {},
   "outputs": [
    {
     "name": "stdout",
     "output_type": "stream",
     "text": [
      "0.0006771977832137872 9.677529183223224e-05\n"
     ]
    }
   ],
   "source": [
    "print(ar40_39_k,ar40_39_k_err )"
   ]
  },
  {
   "cell_type": "code",
   "execution_count": 64,
   "id": "cc47bba8",
   "metadata": {},
   "outputs": [],
   "source": [
    "ar38_39_k,ar38_39_k_err = ratios_(df_ar38_k.shape[0], \n",
    "                                  df_ar39_k.shape[0]) "
   ]
  },
  {
   "cell_type": "code",
   "execution_count": 65,
   "id": "039c0df9",
   "metadata": {},
   "outputs": [
    {
     "name": "stdout",
     "output_type": "stream",
     "text": [
      "0.015934878449908093 0.0004730064214305767\n"
     ]
    }
   ],
   "source": [
    "print(ar38_39_k,ar38_39_k_err)"
   ]
  },
  {
   "cell_type": "code",
   "execution_count": 67,
   "id": "fa67b9c3",
   "metadata": {},
   "outputs": [
    {
     "data": {
      "image/png": "[encoded data removed]",
      "text/plain": [
       "<Figure size 576x360 with 5 Axes>"
      ]
     },
     "metadata": {
      "needs_background": "light"
     },
     "output_type": "display_data"
    }
   ],
   "source": [
    "\"\"\"\n",
    "Interferences \n",
    "\"\"\"\n",
    "fig, ax = plt.subplots(3, 2, figsize = (8, 5))\n",
    "\n",
    "ax[0,0].set_xticks([]); \n",
    "ax[0,1].set_xticks([]); \n",
    "ax[1,0].set_xticks([]); \n",
    "ax[1,1].set_xticks([]); \n",
    "ax[2,0].set_xticks([]); \n",
    "ax[2,1].set_xticks([]); \n",
    "\n",
    "ax[0,0].set_ylabel(r'($^{40}$Ar/$^{39}$Ar)$_{\\rm K}$')\n",
    "ax[0,1].set_ylabel(r'($^{38}$Ar/$^{39}$Ar)$_{\\rm K}$')\n",
    "ax[1,0].set_ylabel(r'($^{36}$Cl/$^{39}$Ar)$_{\\rm K}$')\n",
    "ax[1,1].set_ylabel(r'($^{36}$Cl/$^{38}$Cl)$_{\\rm Cl}$')\n",
    "ax[2,0].set_ylabel(r'($^{36}$Cl/$^{38}$Cl)$_{\\rm K}$')\n",
    "\n",
    "ax[2,1].remove()\n",
    "\"\"\"\n",
    "Plotting  Data\n",
    "\"\"\"\n",
    "\n",
    "ax[0,0].errorbar(x = 2, y = 7.30e-4, \n",
    "                yerr = 0.92e-4,  fmt = 's', \n",
    "                label = 'Data', \n",
    "                color = 'slategrey', \n",
    "                markeredgecolor = 'k', \n",
    "                alpha = 0.6, \n",
    "                markersize = 10)\n",
    "\n",
    "ax[0,1].errorbar(x = 2, y = 1.22e-2, \n",
    "                yerr = 0.001e-2,  fmt = 's', \n",
    "                color = 'slategrey', \n",
    "                markeredgecolor = 'k', \n",
    "                alpha = 0.6, \n",
    "                label = 'Data', \n",
    "                markersize = 10)\n",
    "\n",
    "\n",
    "ax[1,1].errorbar(x = 2, y = 263, \n",
    "                yerr = 1.7,  fmt = 's', \n",
    "                color = 'slategrey', \n",
    "                markeredgecolor = 'k', \n",
    "                alpha = 0.6, \n",
    "                markersize = 10)\n",
    "\n",
    "\n",
    "\"\"\"\n",
    "Plotting Model \n",
    "\"\"\"\n",
    "\n",
    "ax[0,0].errorbar(x = 1, y = ar40_39_k, \n",
    "                yerr = ar40_39_k_err,  fmt = '^', \n",
    "                color = 'skyblue', \n",
    "                markeredgecolor = 'k', \n",
    "                alpha = 1, \n",
    "                label = 'Model', \n",
    "                markersize = 10)\n",
    "\n",
    "\n",
    "ax[0,1].errorbar(x = 1, y = ar38_39_k, \n",
    "                yerr = ar38_39_k_err,  fmt = '^', \n",
    "                color = 'skyblue', \n",
    "                markeredgecolor = 'k', \n",
    "                alpha = 1, \n",
    "                label = 'Model', \n",
    "                markersize = 10)\n",
    "\n",
    "\n",
    "ax[1,1].errorbar(x = 1, y = Cl_pr,  \n",
    "                yerr = Cl_pr_err,  fmt = '^', \n",
    "                color = 'skyblue', \n",
    "                markeredgecolor = 'k', \n",
    "                alpha = 1, \n",
    "                markersize = 10)\n",
    "\n",
    "ax[1,0].errorbar(x = 1, y = 0.4, \n",
    "                yerr = 0.001,  fmt = '^', \n",
    "                color = 'skyblue', \n",
    "                markeredgecolor = 'k', \n",
    "                alpha = 1, \n",
    "                markersize = 10)\n",
    "\n",
    "ax[2,0].errorbar(x = 1, y = p36p38_K, \n",
    "                yerr = p36p38_K_err,  fmt = '^', \n",
    "                color = 'skyblue', \n",
    "                markeredgecolor = 'k', \n",
    "                alpha = 1, \n",
    "                markersize = 10)\n",
    "\n",
    "ax[0,0].set_xlim(0.5, 2.5)\n",
    "ax[0,1].set_xlim(0.5, 2.5)\n",
    "ax[1,0].set_xlim(0.5, 2.5)\n",
    "ax[1,1].set_xlim(0.5, 2.5)\n",
    "ax[2,0].set_xlim(0.5, 2.5)\n",
    "\n",
    "ax[0,0].locator_params(axis = 'y',nbins = 5)\n",
    "ax[0,1].locator_params(axis = 'y',nbins = 5)\n",
    "ax[1,0].locator_params(axis = 'y',nbins = 5)\n",
    "ax[1,1].locator_params(axis = 'y',nbins = 5)\n",
    "ax[2,0].locator_params(axis = 'y',nbins = 5)\n",
    "\n",
    "ax[0,0].ticklabel_format(style='sci', axis='y', scilimits=(0,0))\n",
    "ax[0,1].ticklabel_format(style='sci', axis='y', scilimits=(0,0))\n",
    "ax[1,0].ticklabel_format(style='sci', axis='y', scilimits=(0,0))\n",
    "ax[1,1].ticklabel_format(style='sci', axis='y', scilimits=(0,0))\n",
    "ax[2,0].ticklabel_format(style='sci', axis='y', scilimits=(0,0))\n",
    "\n",
    "ax[0,1].legend(fontsize = 11, loc = 1)\n",
    "ax[0,1].set_ylim(1.1e-2, 1.9e-2)\n",
    "ax[0,0].set_ylim(5.5e-4, 1.01e-3)\n",
    "\n",
    "ax[0,0].text(0.62, 0.6e-3, 'A', fontsize= 15)\n",
    "ax[0,1].text(0.62, 1.2e-2, 'B', fontsize= 15)\n",
    "ax[1,0].text(0.62, 3.9915e-1, 'C', fontsize= 15)\n",
    "ax[1,1].text(0.62, 243.5, 'D', fontsize= 15)\n",
    "ax[2,0].text(0.62, 480, 'E', fontsize= 15)\n",
    "\n",
    "plt.tight_layout()\n"
   ]
  },
  {
   "cell_type": "code",
   "execution_count": null,
   "id": "afe1a868",
   "metadata": {},
   "outputs": [],
   "source": []
  },
  {
   "cell_type": "code",
   "execution_count": null,
   "id": "869d02c6",
   "metadata": {},
   "outputs": [],
   "source": []
  },
  {
   "cell_type": "code",
   "execution_count": null,
   "id": "33d07b03",
   "metadata": {},
   "outputs": [],
   "source": []
  }
 ],
 "metadata": {
  "kernelspec": {
   "display_name": "Python 3",
   "language": "python",
   "name": "python3"
  },
  "language_info": {
   "codemirror_mode": {
    "name": "ipython",
    "version": 3
   },
   "file_extension": ".py",
   "mimetype": "text/x-python",
   "name": "python",
   "nbconvert_exporter": "python",
   "pygments_lexer": "ipython3",
   "version": "3.8.8"
  }
 },
 "nbformat": 4,
 "nbformat_minor": 5
}
